{
 "cells": [
  {
   "cell_type": "code",
   "execution_count": 76,
   "metadata": {},
   "outputs": [],
   "source": [
    "import pandas as pd\n",
    "import numpy as np\n",
    "from sklearn.model_selection import train_test_split, RandomizedSearchCV\n"
   ]
  },
  {
   "cell_type": "code",
   "execution_count": 77,
   "metadata": {},
   "outputs": [
    {
     "name": "stderr",
     "output_type": "stream",
     "text": [
      "C:\\Users\\User\\AppData\\Local\\Temp\\ipykernel_15648\\1420820392.py:1: ParserWarning: Falling back to the 'python' engine because the 'c' engine does not support regex separators (separators > 1 char and different from '\\s+' are interpreted as regex); you can avoid this warning by specifying engine='python'.\n",
      "  dataOriginal=pd.read_csv('./ml-100k/u.data',sep=r'\\t',names=['user id','item id', 'rating', 'timestamp'])\n"
     ]
    }
   ],
   "source": [
    "dataOriginal=pd.read_csv('./ml-100k/u.data',sep=r'\\t',names=['user id','item id', 'rating', 'timestamp'])\n",
    "filmesId=pd.DataFrame((set(dataOriginal['item id'])),columns=['Filmes'])\n",
    "\n",
    "itemData=pd.read_csv('./ml-100k/u.item',sep=r'|',names=['movie_id ', 'movie title' , 'release date' ,' video release date' ,\n",
    "              'IMDb URL' ,' unknown' , 'Action' , 'Adventure' , 'Animation' ,\n",
    "             ' Childrens ', 'Comedy' , 'Crime' , 'Documentary' , 'Drama' , 'Fantasy' ,\n",
    "              'Film-Noir' , 'Horror' , 'Musical' , 'Mystery' , 'Romance' , 'Sci-Fi' ,\n",
    "              'Thriller' , 'War' , 'Western' ], encoding='latin-1')\n",
    "userData=pd.read_csv('./ml-100k/u.user',sep='|',names=['user id','age','Genero','Ocupacao','ZipCode'])"
   ]
  },
  {
   "cell_type": "code",
   "execution_count": 93,
   "metadata": {},
   "outputs": [],
   "source": [
    "\n",
    "\n",
    "def cossine_similarity(u, v):\n",
    "    itemsComuns = set(u['item id']).intersection(set(v['item id']))\n",
    "    u = u[u['item id'].isin(itemsComuns)].sort_values(by='item id')['rating']\n",
    "    v = v[v['item id'].isin(itemsComuns)].sort_values(by='item id')['rating']\n",
    "    # print(u,v)\n",
    "    return np.dot(u, v)/(np.linalg.norm(u)*np.linalg.norm(v))\n",
    "\n",
    "\n",
    "def user_based(user_id, item_id,data):\n",
    "    Nui = userData[userData['user id'].isin(\n",
    "        data[data['item id'] == item_id]['user id'])]\n",
    "    # print(\"\"+str(user_id)+\" \"+str(item_id))\n",
    "    # print(len(Nui))\n",
    "    if(len(Nui)==0):\n",
    "        return None\n",
    "    parcial1 = sum(Nui.apply(lambda x:\n",
    "                             (cossine_similarity(data[data['user id'] == user_id],\n",
    "                                                 data[data['user id']\n",
    "                                                      == x['user id']]\n",
    "                                                 )*data[(\n",
    "                                                     data['user id'] == x['user id']) & (data['item id'] == item_id)\n",
    "                             ]['rating'].reset_index(drop=True)), axis=1\n",
    "\n",
    "                             ).rename(columns={0: 'rating'})['rating'])\n",
    "    parcial2 = sum(Nui.apply(lambda x:\n",
    "                             (abs(cossine_similarity(data[data['user id'] == user_id],\n",
    "                                                     data[data['user id']\n",
    "                                                          == x['user id']]\n",
    "                                                     ))), axis=1\n",
    "                             ))\n",
    "    return parcial1/parcial2\n"
   ]
  },
  {
   "cell_type": "code",
   "execution_count": 94,
   "metadata": {},
   "outputs": [
    {
     "data": {
      "text/html": [
       "<div>\n",
       "<style scoped>\n",
       "    .dataframe tbody tr th:only-of-type {\n",
       "        vertical-align: middle;\n",
       "    }\n",
       "\n",
       "    .dataframe tbody tr th {\n",
       "        vertical-align: top;\n",
       "    }\n",
       "\n",
       "    .dataframe thead th {\n",
       "        text-align: right;\n",
       "    }\n",
       "</style>\n",
       "<table border=\"1\" class=\"dataframe\">\n",
       "  <thead>\n",
       "    <tr style=\"text-align: right;\">\n",
       "      <th></th>\n",
       "      <th>user id</th>\n",
       "      <th>item id</th>\n",
       "    </tr>\n",
       "  </thead>\n",
       "  <tbody>\n",
       "    <tr>\n",
       "      <th>75721</th>\n",
       "      <td>877</td>\n",
       "      <td>381</td>\n",
       "    </tr>\n",
       "    <tr>\n",
       "      <th>80184</th>\n",
       "      <td>815</td>\n",
       "      <td>602</td>\n",
       "    </tr>\n",
       "    <tr>\n",
       "      <th>19864</th>\n",
       "      <td>94</td>\n",
       "      <td>431</td>\n",
       "    </tr>\n",
       "    <tr>\n",
       "      <th>76699</th>\n",
       "      <td>416</td>\n",
       "      <td>875</td>\n",
       "    </tr>\n",
       "    <tr>\n",
       "      <th>92991</th>\n",
       "      <td>500</td>\n",
       "      <td>182</td>\n",
       "    </tr>\n",
       "    <tr>\n",
       "      <th>...</th>\n",
       "      <td>...</td>\n",
       "      <td>...</td>\n",
       "    </tr>\n",
       "    <tr>\n",
       "      <th>32595</th>\n",
       "      <td>72</td>\n",
       "      <td>591</td>\n",
       "    </tr>\n",
       "    <tr>\n",
       "      <th>29313</th>\n",
       "      <td>523</td>\n",
       "      <td>393</td>\n",
       "    </tr>\n",
       "    <tr>\n",
       "      <th>37862</th>\n",
       "      <td>606</td>\n",
       "      <td>287</td>\n",
       "    </tr>\n",
       "    <tr>\n",
       "      <th>53421</th>\n",
       "      <td>650</td>\n",
       "      <td>612</td>\n",
       "    </tr>\n",
       "    <tr>\n",
       "      <th>42410</th>\n",
       "      <td>303</td>\n",
       "      <td>72</td>\n",
       "    </tr>\n",
       "  </tbody>\n",
       "</table>\n",
       "<p>20000 rows × 2 columns</p>\n",
       "</div>"
      ],
      "text/plain": [
       "       user id  item id\n",
       "75721      877      381\n",
       "80184      815      602\n",
       "19864       94      431\n",
       "76699      416      875\n",
       "92991      500      182\n",
       "...        ...      ...\n",
       "32595       72      591\n",
       "29313      523      393\n",
       "37862      606      287\n",
       "53421      650      612\n",
       "42410      303       72\n",
       "\n",
       "[20000 rows x 2 columns]"
      ]
     },
     "execution_count": 94,
     "metadata": {},
     "output_type": "execute_result"
    }
   ],
   "source": [
    "\n",
    "train,test=train_test_split(dataOriginal.drop('timestamp',axis=1), test_size=0.2, random_state=42)\n",
    "x_test=test.drop('rating',axis=1)\n",
    "y_test=test['rating']\n",
    "x_test"
   ]
  },
  {
   "cell_type": "code",
   "execution_count": 95,
   "metadata": {},
   "outputs": [
    {
     "name": "stdout",
     "output_type": "stream",
     "text": [
      "655 1640\n",
      "0\n"
     ]
    }
   ],
   "source": [
    "val=user_based(655,1640,train)"
   ]
  },
  {
   "cell_type": "code",
   "execution_count": 82,
   "metadata": {},
   "outputs": [
    {
     "name": "stdout",
     "output_type": "stream",
     "text": [
      "877 381\n",
      "815 602\n",
      "94 431\n",
      "416 875\n",
      "500 182\n",
      "259 1074\n",
      "598 286\n"
     ]
    },
    {
     "name": "stderr",
     "output_type": "stream",
     "text": [
      "C:\\Users\\User\\AppData\\Local\\Temp\\ipykernel_15648\\1784366901.py:6: RuntimeWarning: invalid value encountered in scalar divide\n",
      "  return np.dot(u, v)/(np.linalg.norm(u)*np.linalg.norm(v))\n",
      "C:\\Users\\User\\AppData\\Local\\Temp\\ipykernel_15648\\1784366901.py:6: RuntimeWarning: invalid value encountered in scalar divide\n",
      "  return np.dot(u, v)/(np.linalg.norm(u)*np.linalg.norm(v))\n"
     ]
    },
    {
     "name": "stdout",
     "output_type": "stream",
     "text": [
      "886 496\n",
      "837 15\n"
     ]
    },
    {
     "name": "stderr",
     "output_type": "stream",
     "text": [
      "C:\\Users\\User\\AppData\\Local\\Temp\\ipykernel_15648\\1784366901.py:6: RuntimeWarning: invalid value encountered in scalar divide\n",
      "  return np.dot(u, v)/(np.linalg.norm(u)*np.linalg.norm(v))\n",
      "C:\\Users\\User\\AppData\\Local\\Temp\\ipykernel_15648\\1784366901.py:6: RuntimeWarning: invalid value encountered in scalar divide\n",
      "  return np.dot(u, v)/(np.linalg.norm(u)*np.linalg.norm(v))\n"
     ]
    },
    {
     "name": "stdout",
     "output_type": "stream",
     "text": [
      "521 184\n",
      "459 864\n",
      "622 568\n",
      "655 1197\n",
      "128 99\n",
      "308 31\n",
      "930 286\n"
     ]
    },
    {
     "name": "stderr",
     "output_type": "stream",
     "text": [
      "C:\\Users\\User\\AppData\\Local\\Temp\\ipykernel_15648\\1784366901.py:6: RuntimeWarning: invalid value encountered in scalar divide\n",
      "  return np.dot(u, v)/(np.linalg.norm(u)*np.linalg.norm(v))\n",
      "C:\\Users\\User\\AppData\\Local\\Temp\\ipykernel_15648\\1784366901.py:6: RuntimeWarning: invalid value encountered in scalar divide\n",
      "  return np.dot(u, v)/(np.linalg.norm(u)*np.linalg.norm(v))\n"
     ]
    },
    {
     "name": "stdout",
     "output_type": "stream",
     "text": [
      "43 14\n",
      "42 176\n",
      "450 618\n",
      "521 568\n",
      "698 176\n",
      "13 476\n",
      "796 82\n",
      "308 492\n",
      "322 303\n"
     ]
    },
    {
     "name": "stderr",
     "output_type": "stream",
     "text": [
      "C:\\Users\\User\\AppData\\Local\\Temp\\ipykernel_15648\\1784366901.py:6: RuntimeWarning: invalid value encountered in scalar divide\n",
      "  return np.dot(u, v)/(np.linalg.norm(u)*np.linalg.norm(v))\n",
      "C:\\Users\\User\\AppData\\Local\\Temp\\ipykernel_15648\\1784366901.py:6: RuntimeWarning: invalid value encountered in scalar divide\n",
      "  return np.dot(u, v)/(np.linalg.norm(u)*np.linalg.norm(v))\n"
     ]
    },
    {
     "name": "stdout",
     "output_type": "stream",
     "text": [
      "276 408\n",
      "537 483\n",
      "933 180\n",
      "852 109\n",
      "416 156\n",
      "859 1281\n",
      "892 2\n",
      "378 979\n",
      "350 214\n",
      "393 1165\n",
      "240 245\n"
     ]
    },
    {
     "name": "stderr",
     "output_type": "stream",
     "text": [
      "C:\\Users\\User\\AppData\\Local\\Temp\\ipykernel_15648\\1784366901.py:6: RuntimeWarning: invalid value encountered in scalar divide\n",
      "  return np.dot(u, v)/(np.linalg.norm(u)*np.linalg.norm(v))\n",
      "C:\\Users\\User\\AppData\\Local\\Temp\\ipykernel_15648\\1784366901.py:6: RuntimeWarning: invalid value encountered in scalar divide\n",
      "  return np.dot(u, v)/(np.linalg.norm(u)*np.linalg.norm(v))\n"
     ]
    },
    {
     "name": "stdout",
     "output_type": "stream",
     "text": [
      "13 326\n",
      "165 651\n",
      "184 95\n",
      "296 45\n",
      "213 318\n",
      "217 684\n",
      "515 682\n",
      "487 38\n",
      "416 257\n",
      "455 77\n",
      "712 1091\n",
      "748 647\n",
      "313 230\n",
      "77 636\n",
      "474 276\n",
      "373 386\n",
      "312 519\n",
      "919 1086\n",
      "698 205\n",
      "629 187\n",
      "868 234\n",
      "899 934\n",
      "847 240\n",
      "59 742\n",
      "634 547\n",
      "516 431\n"
     ]
    },
    {
     "name": "stderr",
     "output_type": "stream",
     "text": [
      "C:\\Users\\User\\AppData\\Local\\Temp\\ipykernel_15648\\1784366901.py:6: RuntimeWarning: invalid value encountered in scalar divide\n",
      "  return np.dot(u, v)/(np.linalg.norm(u)*np.linalg.norm(v))\n",
      "C:\\Users\\User\\AppData\\Local\\Temp\\ipykernel_15648\\1784366901.py:6: RuntimeWarning: invalid value encountered in scalar divide\n",
      "  return np.dot(u, v)/(np.linalg.norm(u)*np.linalg.norm(v))\n"
     ]
    },
    {
     "name": "stdout",
     "output_type": "stream",
     "text": [
      "357 273\n"
     ]
    },
    {
     "name": "stderr",
     "output_type": "stream",
     "text": [
      "C:\\Users\\User\\AppData\\Local\\Temp\\ipykernel_15648\\1784366901.py:6: RuntimeWarning: invalid value encountered in scalar divide\n",
      "  return np.dot(u, v)/(np.linalg.norm(u)*np.linalg.norm(v))\n"
     ]
    },
    {
     "name": "stdout",
     "output_type": "stream",
     "text": [
      "883 1448\n",
      "533 195\n",
      "666 204\n",
      "387 569\n",
      "716 235\n",
      "503 182\n",
      "328 810\n",
      "26 1015\n",
      "533 845\n",
      "611 324\n"
     ]
    },
    {
     "name": "stderr",
     "output_type": "stream",
     "text": [
      "C:\\Users\\User\\AppData\\Local\\Temp\\ipykernel_15648\\1784366901.py:6: RuntimeWarning: invalid value encountered in scalar divide\n",
      "  return np.dot(u, v)/(np.linalg.norm(u)*np.linalg.norm(v))\n",
      "C:\\Users\\User\\AppData\\Local\\Temp\\ipykernel_15648\\1784366901.py:6: RuntimeWarning: invalid value encountered in scalar divide\n",
      "  return np.dot(u, v)/(np.linalg.norm(u)*np.linalg.norm(v))\n"
     ]
    },
    {
     "name": "stdout",
     "output_type": "stream",
     "text": [
      "303 26\n",
      "327 219\n",
      "301 1016\n",
      "577 28\n",
      "749 628\n",
      "727 1446\n",
      "589 288\n"
     ]
    },
    {
     "name": "stderr",
     "output_type": "stream",
     "text": [
      "C:\\Users\\User\\AppData\\Local\\Temp\\ipykernel_15648\\1784366901.py:6: RuntimeWarning: invalid value encountered in scalar divide\n",
      "  return np.dot(u, v)/(np.linalg.norm(u)*np.linalg.norm(v))\n",
      "C:\\Users\\User\\AppData\\Local\\Temp\\ipykernel_15648\\1784366901.py:6: RuntimeWarning: invalid value encountered in scalar divide\n",
      "  return np.dot(u, v)/(np.linalg.norm(u)*np.linalg.norm(v))\n"
     ]
    },
    {
     "name": "stdout",
     "output_type": "stream",
     "text": [
      "399 395\n",
      "766 568\n",
      "235 100\n"
     ]
    },
    {
     "name": "stderr",
     "output_type": "stream",
     "text": [
      "C:\\Users\\User\\AppData\\Local\\Temp\\ipykernel_15648\\1784366901.py:6: RuntimeWarning: invalid value encountered in scalar divide\n",
      "  return np.dot(u, v)/(np.linalg.norm(u)*np.linalg.norm(v))\n",
      "C:\\Users\\User\\AppData\\Local\\Temp\\ipykernel_15648\\1784366901.py:6: RuntimeWarning: invalid value encountered in scalar divide\n",
      "  return np.dot(u, v)/(np.linalg.norm(u)*np.linalg.norm(v))\n"
     ]
    },
    {
     "name": "stdout",
     "output_type": "stream",
     "text": [
      "861 83\n"
     ]
    },
    {
     "name": "stderr",
     "output_type": "stream",
     "text": [
      "C:\\Users\\User\\AppData\\Local\\Temp\\ipykernel_15648\\1784366901.py:6: RuntimeWarning: invalid value encountered in scalar divide\n",
      "  return np.dot(u, v)/(np.linalg.norm(u)*np.linalg.norm(v))\n"
     ]
    },
    {
     "name": "stdout",
     "output_type": "stream",
     "text": [
      "648 428\n",
      "938 289\n"
     ]
    },
    {
     "name": "stderr",
     "output_type": "stream",
     "text": [
      "C:\\Users\\User\\AppData\\Local\\Temp\\ipykernel_15648\\1784366901.py:6: RuntimeWarning: invalid value encountered in scalar divide\n",
      "  return np.dot(u, v)/(np.linalg.norm(u)*np.linalg.norm(v))\n",
      "C:\\Users\\User\\AppData\\Local\\Temp\\ipykernel_15648\\1784366901.py:6: RuntimeWarning: invalid value encountered in scalar divide\n",
      "  return np.dot(u, v)/(np.linalg.norm(u)*np.linalg.norm(v))\n"
     ]
    },
    {
     "name": "stdout",
     "output_type": "stream",
     "text": [
      "593 278\n",
      "837 111\n"
     ]
    },
    {
     "name": "stderr",
     "output_type": "stream",
     "text": [
      "C:\\Users\\User\\AppData\\Local\\Temp\\ipykernel_15648\\1784366901.py:6: RuntimeWarning: invalid value encountered in scalar divide\n",
      "  return np.dot(u, v)/(np.linalg.norm(u)*np.linalg.norm(v))\n",
      "C:\\Users\\User\\AppData\\Local\\Temp\\ipykernel_15648\\1784366901.py:6: RuntimeWarning: invalid value encountered in scalar divide\n",
      "  return np.dot(u, v)/(np.linalg.norm(u)*np.linalg.norm(v))\n"
     ]
    },
    {
     "name": "stdout",
     "output_type": "stream",
     "text": [
      "916 271\n"
     ]
    },
    {
     "name": "stderr",
     "output_type": "stream",
     "text": [
      "C:\\Users\\User\\AppData\\Local\\Temp\\ipykernel_15648\\1784366901.py:6: RuntimeWarning: invalid value encountered in scalar divide\n",
      "  return np.dot(u, v)/(np.linalg.norm(u)*np.linalg.norm(v))\n"
     ]
    },
    {
     "name": "stdout",
     "output_type": "stream",
     "text": [
      "410 269\n"
     ]
    },
    {
     "name": "stderr",
     "output_type": "stream",
     "text": [
      "C:\\Users\\User\\AppData\\Local\\Temp\\ipykernel_15648\\1784366901.py:6: RuntimeWarning: invalid value encountered in scalar divide\n",
      "  return np.dot(u, v)/(np.linalg.norm(u)*np.linalg.norm(v))\n"
     ]
    },
    {
     "name": "stdout",
     "output_type": "stream",
     "text": [
      "634 1142\n",
      "721 175\n",
      "381 473\n",
      "120 125\n"
     ]
    },
    {
     "name": "stderr",
     "output_type": "stream",
     "text": [
      "C:\\Users\\User\\AppData\\Local\\Temp\\ipykernel_15648\\1784366901.py:6: RuntimeWarning: invalid value encountered in scalar divide\n",
      "  return np.dot(u, v)/(np.linalg.norm(u)*np.linalg.norm(v))\n",
      "C:\\Users\\User\\AppData\\Local\\Temp\\ipykernel_15648\\1784366901.py:6: RuntimeWarning: invalid value encountered in scalar divide\n",
      "  return np.dot(u, v)/(np.linalg.norm(u)*np.linalg.norm(v))\n"
     ]
    },
    {
     "name": "stdout",
     "output_type": "stream",
     "text": [
      "848 647\n",
      "854 121\n",
      "896 190\n",
      "539 610\n",
      "268 11\n",
      "185 50\n"
     ]
    },
    {
     "name": "stderr",
     "output_type": "stream",
     "text": [
      "C:\\Users\\User\\AppData\\Local\\Temp\\ipykernel_15648\\1784366901.py:6: RuntimeWarning: invalid value encountered in scalar divide\n",
      "  return np.dot(u, v)/(np.linalg.norm(u)*np.linalg.norm(v))\n",
      "C:\\Users\\User\\AppData\\Local\\Temp\\ipykernel_15648\\1784366901.py:6: RuntimeWarning: invalid value encountered in scalar divide\n",
      "  return np.dot(u, v)/(np.linalg.norm(u)*np.linalg.norm(v))\n"
     ]
    },
    {
     "name": "stdout",
     "output_type": "stream",
     "text": [
      "747 844\n",
      "526 298\n",
      "667 182\n"
     ]
    },
    {
     "name": "stderr",
     "output_type": "stream",
     "text": [
      "C:\\Users\\User\\AppData\\Local\\Temp\\ipykernel_15648\\1784366901.py:6: RuntimeWarning: invalid value encountered in scalar divide\n",
      "  return np.dot(u, v)/(np.linalg.norm(u)*np.linalg.norm(v))\n",
      "C:\\Users\\User\\AppData\\Local\\Temp\\ipykernel_15648\\1784366901.py:6: RuntimeWarning: invalid value encountered in scalar divide\n",
      "  return np.dot(u, v)/(np.linalg.norm(u)*np.linalg.norm(v))\n"
     ]
    },
    {
     "name": "stdout",
     "output_type": "stream",
     "text": [
      "717 125\n",
      "49 919\n",
      "592 1281\n",
      "330 195\n",
      "189 381\n",
      "83 845\n",
      "904 762\n",
      "705 97\n",
      "846 1210\n",
      "851 1059\n",
      "764 9\n",
      "868 214\n",
      "886 172\n",
      "823 68\n",
      "449 276\n"
     ]
    },
    {
     "name": "stderr",
     "output_type": "stream",
     "text": [
      "C:\\Users\\User\\AppData\\Local\\Temp\\ipykernel_15648\\1784366901.py:6: RuntimeWarning: invalid value encountered in scalar divide\n",
      "  return np.dot(u, v)/(np.linalg.norm(u)*np.linalg.norm(v))\n",
      "C:\\Users\\User\\AppData\\Local\\Temp\\ipykernel_15648\\1784366901.py:6: RuntimeWarning: invalid value encountered in scalar divide\n",
      "  return np.dot(u, v)/(np.linalg.norm(u)*np.linalg.norm(v))\n"
     ]
    },
    {
     "name": "stdout",
     "output_type": "stream",
     "text": [
      "59 106\n",
      "634 1197\n",
      "10 700\n",
      "543 737\n",
      "905 1051\n",
      "450 1115\n",
      "463 740\n",
      "463 1033\n",
      "429 1109\n",
      "406 234\n",
      "318 414\n",
      "560 1333\n",
      "429 559\n",
      "327 268\n",
      "427 990\n",
      "483 230\n"
     ]
    },
    {
     "name": "stderr",
     "output_type": "stream",
     "text": [
      "C:\\Users\\User\\AppData\\Local\\Temp\\ipykernel_15648\\1784366901.py:6: RuntimeWarning: invalid value encountered in scalar divide\n",
      "  return np.dot(u, v)/(np.linalg.norm(u)*np.linalg.norm(v))\n",
      "C:\\Users\\User\\AppData\\Local\\Temp\\ipykernel_15648\\1784366901.py:6: RuntimeWarning: invalid value encountered in scalar divide\n",
      "  return np.dot(u, v)/(np.linalg.norm(u)*np.linalg.norm(v))\n"
     ]
    },
    {
     "name": "stdout",
     "output_type": "stream",
     "text": [
      "911 428\n",
      "405 1590\n",
      "227 741\n",
      "870 284\n",
      "493 262\n",
      "320 11\n",
      "161 654\n",
      "128 1063\n",
      "698 50\n",
      "125 1\n"
     ]
    },
    {
     "name": "stderr",
     "output_type": "stream",
     "text": [
      "C:\\Users\\User\\AppData\\Local\\Temp\\ipykernel_15648\\1784366901.py:6: RuntimeWarning: invalid value encountered in scalar divide\n",
      "  return np.dot(u, v)/(np.linalg.norm(u)*np.linalg.norm(v))\n",
      "C:\\Users\\User\\AppData\\Local\\Temp\\ipykernel_15648\\1784366901.py:6: RuntimeWarning: invalid value encountered in scalar divide\n",
      "  return np.dot(u, v)/(np.linalg.norm(u)*np.linalg.norm(v))\n"
     ]
    },
    {
     "name": "stdout",
     "output_type": "stream",
     "text": [
      "555 1054\n",
      "509 309\n",
      "2 290\n",
      "679 69\n"
     ]
    },
    {
     "name": "stderr",
     "output_type": "stream",
     "text": [
      "C:\\Users\\User\\AppData\\Local\\Temp\\ipykernel_15648\\1784366901.py:6: RuntimeWarning: invalid value encountered in scalar divide\n",
      "  return np.dot(u, v)/(np.linalg.norm(u)*np.linalg.norm(v))\n",
      "C:\\Users\\User\\AppData\\Local\\Temp\\ipykernel_15648\\1784366901.py:6: RuntimeWarning: invalid value encountered in scalar divide\n",
      "  return np.dot(u, v)/(np.linalg.norm(u)*np.linalg.norm(v))\n"
     ]
    },
    {
     "name": "stdout",
     "output_type": "stream",
     "text": [
      "880 931\n",
      "83 28\n",
      "880 780\n",
      "446 300\n"
     ]
    },
    {
     "name": "stderr",
     "output_type": "stream",
     "text": [
      "C:\\Users\\User\\AppData\\Local\\Temp\\ipykernel_15648\\1784366901.py:6: RuntimeWarning: invalid value encountered in scalar divide\n",
      "  return np.dot(u, v)/(np.linalg.norm(u)*np.linalg.norm(v))\n",
      "C:\\Users\\User\\AppData\\Local\\Temp\\ipykernel_15648\\1784366901.py:6: RuntimeWarning: invalid value encountered in scalar divide\n",
      "  return np.dot(u, v)/(np.linalg.norm(u)*np.linalg.norm(v))\n"
     ]
    },
    {
     "name": "stdout",
     "output_type": "stream",
     "text": [
      "171 346\n"
     ]
    },
    {
     "name": "stderr",
     "output_type": "stream",
     "text": [
      "C:\\Users\\User\\AppData\\Local\\Temp\\ipykernel_15648\\1784366901.py:6: RuntimeWarning: invalid value encountered in scalar divide\n",
      "  return np.dot(u, v)/(np.linalg.norm(u)*np.linalg.norm(v))\n"
     ]
    },
    {
     "name": "stdout",
     "output_type": "stream",
     "text": [
      "6 463\n",
      "772 272\n"
     ]
    },
    {
     "name": "stderr",
     "output_type": "stream",
     "text": [
      "C:\\Users\\User\\AppData\\Local\\Temp\\ipykernel_15648\\1784366901.py:6: RuntimeWarning: invalid value encountered in scalar divide\n",
      "  return np.dot(u, v)/(np.linalg.norm(u)*np.linalg.norm(v))\n",
      "C:\\Users\\User\\AppData\\Local\\Temp\\ipykernel_15648\\1784366901.py:6: RuntimeWarning: invalid value encountered in scalar divide\n",
      "  return np.dot(u, v)/(np.linalg.norm(u)*np.linalg.norm(v))\n"
     ]
    },
    {
     "name": "stdout",
     "output_type": "stream",
     "text": [
      "631 288\n"
     ]
    },
    {
     "name": "stderr",
     "output_type": "stream",
     "text": [
      "C:\\Users\\User\\AppData\\Local\\Temp\\ipykernel_15648\\1784366901.py:6: RuntimeWarning: invalid value encountered in scalar divide\n",
      "  return np.dot(u, v)/(np.linalg.norm(u)*np.linalg.norm(v))\n"
     ]
    },
    {
     "name": "stdout",
     "output_type": "stream",
     "text": [
      "293 419\n",
      "305 59\n",
      "563 233\n",
      "348 411\n",
      "524 301\n"
     ]
    },
    {
     "name": "stderr",
     "output_type": "stream",
     "text": [
      "C:\\Users\\User\\AppData\\Local\\Temp\\ipykernel_15648\\1784366901.py:6: RuntimeWarning: invalid value encountered in scalar divide\n",
      "  return np.dot(u, v)/(np.linalg.norm(u)*np.linalg.norm(v))\n",
      "C:\\Users\\User\\AppData\\Local\\Temp\\ipykernel_15648\\1784366901.py:6: RuntimeWarning: invalid value encountered in scalar divide\n",
      "  return np.dot(u, v)/(np.linalg.norm(u)*np.linalg.norm(v))\n"
     ]
    },
    {
     "name": "stdout",
     "output_type": "stream",
     "text": [
      "693 855\n",
      "682 202\n",
      "427 989\n",
      "326 397\n",
      "350 429\n",
      "437 466\n",
      "291 572\n",
      "660 797\n",
      "132 251\n",
      "177 12\n",
      "42 469\n",
      "883 435\n",
      "843 528\n",
      "544 312\n",
      "935 313\n"
     ]
    },
    {
     "name": "stderr",
     "output_type": "stream",
     "text": [
      "C:\\Users\\User\\AppData\\Local\\Temp\\ipykernel_15648\\1784366901.py:6: RuntimeWarning: invalid value encountered in scalar divide\n",
      "  return np.dot(u, v)/(np.linalg.norm(u)*np.linalg.norm(v))\n",
      "C:\\Users\\User\\AppData\\Local\\Temp\\ipykernel_15648\\1784366901.py:6: RuntimeWarning: invalid value encountered in scalar divide\n",
      "  return np.dot(u, v)/(np.linalg.norm(u)*np.linalg.norm(v))\n"
     ]
    },
    {
     "name": "stdout",
     "output_type": "stream",
     "text": [
      "329 1011\n"
     ]
    },
    {
     "name": "stderr",
     "output_type": "stream",
     "text": [
      "C:\\Users\\User\\AppData\\Local\\Temp\\ipykernel_15648\\1784366901.py:6: RuntimeWarning: invalid value encountered in scalar divide\n",
      "  return np.dot(u, v)/(np.linalg.norm(u)*np.linalg.norm(v))\n"
     ]
    },
    {
     "name": "stdout",
     "output_type": "stream",
     "text": [
      "908 56\n",
      "627 318\n"
     ]
    },
    {
     "name": "stderr",
     "output_type": "stream",
     "text": [
      "C:\\Users\\User\\AppData\\Local\\Temp\\ipykernel_15648\\1784366901.py:6: RuntimeWarning: invalid value encountered in scalar divide\n",
      "  return np.dot(u, v)/(np.linalg.norm(u)*np.linalg.norm(v))\n",
      "C:\\Users\\User\\AppData\\Local\\Temp\\ipykernel_15648\\1784366901.py:6: RuntimeWarning: invalid value encountered in scalar divide\n",
      "  return np.dot(u, v)/(np.linalg.norm(u)*np.linalg.norm(v))\n"
     ]
    },
    {
     "name": "stdout",
     "output_type": "stream",
     "text": [
      "417 118\n",
      "622 64\n",
      "532 915\n",
      "293 133\n",
      "577 55\n",
      "303 1511\n",
      "425 362\n",
      "896 1183\n",
      "85 380\n",
      "589 333\n"
     ]
    },
    {
     "name": "stderr",
     "output_type": "stream",
     "text": [
      "C:\\Users\\User\\AppData\\Local\\Temp\\ipykernel_15648\\1784366901.py:6: RuntimeWarning: invalid value encountered in scalar divide\n",
      "  return np.dot(u, v)/(np.linalg.norm(u)*np.linalg.norm(v))\n",
      "C:\\Users\\User\\AppData\\Local\\Temp\\ipykernel_15648\\1784366901.py:6: RuntimeWarning: invalid value encountered in scalar divide\n",
      "  return np.dot(u, v)/(np.linalg.norm(u)*np.linalg.norm(v))\n"
     ]
    },
    {
     "name": "stdout",
     "output_type": "stream",
     "text": [
      "556 209\n",
      "689 109\n",
      "345 333\n",
      "806 121\n"
     ]
    },
    {
     "name": "stderr",
     "output_type": "stream",
     "text": [
      "C:\\Users\\User\\AppData\\Local\\Temp\\ipykernel_15648\\1784366901.py:6: RuntimeWarning: invalid value encountered in scalar divide\n",
      "  return np.dot(u, v)/(np.linalg.norm(u)*np.linalg.norm(v))\n",
      "C:\\Users\\User\\AppData\\Local\\Temp\\ipykernel_15648\\1784366901.py:6: RuntimeWarning: invalid value encountered in scalar divide\n",
      "  return np.dot(u, v)/(np.linalg.norm(u)*np.linalg.norm(v))\n"
     ]
    },
    {
     "name": "stdout",
     "output_type": "stream",
     "text": [
      "391 222\n",
      "754 117\n"
     ]
    },
    {
     "name": "stderr",
     "output_type": "stream",
     "text": [
      "C:\\Users\\User\\AppData\\Local\\Temp\\ipykernel_15648\\1784366901.py:6: RuntimeWarning: invalid value encountered in scalar divide\n",
      "  return np.dot(u, v)/(np.linalg.norm(u)*np.linalg.norm(v))\n",
      "C:\\Users\\User\\AppData\\Local\\Temp\\ipykernel_15648\\1784366901.py:6: RuntimeWarning: invalid value encountered in scalar divide\n",
      "  return np.dot(u, v)/(np.linalg.norm(u)*np.linalg.norm(v))\n"
     ]
    },
    {
     "name": "stdout",
     "output_type": "stream",
     "text": [
      "452 197\n",
      "758 43\n",
      "663 1324\n",
      "533 4\n",
      "470 137\n"
     ]
    },
    {
     "name": "stderr",
     "output_type": "stream",
     "text": [
      "C:\\Users\\User\\AppData\\Local\\Temp\\ipykernel_15648\\1784366901.py:6: RuntimeWarning: invalid value encountered in scalar divide\n",
      "  return np.dot(u, v)/(np.linalg.norm(u)*np.linalg.norm(v))\n",
      "C:\\Users\\User\\AppData\\Local\\Temp\\ipykernel_15648\\1784366901.py:6: RuntimeWarning: invalid value encountered in scalar divide\n",
      "  return np.dot(u, v)/(np.linalg.norm(u)*np.linalg.norm(v))\n"
     ]
    },
    {
     "name": "stdout",
     "output_type": "stream",
     "text": [
      "402 7\n",
      "411 527\n"
     ]
    },
    {
     "name": "stderr",
     "output_type": "stream",
     "text": [
      "C:\\Users\\User\\AppData\\Local\\Temp\\ipykernel_15648\\1784366901.py:6: RuntimeWarning: invalid value encountered in scalar divide\n",
      "  return np.dot(u, v)/(np.linalg.norm(u)*np.linalg.norm(v))\n",
      "C:\\Users\\User\\AppData\\Local\\Temp\\ipykernel_15648\\1784366901.py:6: RuntimeWarning: invalid value encountered in scalar divide\n",
      "  return np.dot(u, v)/(np.linalg.norm(u)*np.linalg.norm(v))\n"
     ]
    },
    {
     "name": "stdout",
     "output_type": "stream",
     "text": [
      "487 404\n",
      "26 222\n",
      "379 554\n",
      "151 173\n",
      "222 49\n",
      "496 155\n"
     ]
    },
    {
     "name": "stderr",
     "output_type": "stream",
     "text": [
      "C:\\Users\\User\\AppData\\Local\\Temp\\ipykernel_15648\\1784366901.py:6: RuntimeWarning: invalid value encountered in scalar divide\n",
      "  return np.dot(u, v)/(np.linalg.norm(u)*np.linalg.norm(v))\n",
      "C:\\Users\\User\\AppData\\Local\\Temp\\ipykernel_15648\\1784366901.py:6: RuntimeWarning: invalid value encountered in scalar divide\n",
      "  return np.dot(u, v)/(np.linalg.norm(u)*np.linalg.norm(v))\n"
     ]
    },
    {
     "name": "stdout",
     "output_type": "stream",
     "text": [
      "200 141\n",
      "726 1028\n"
     ]
    },
    {
     "name": "stderr",
     "output_type": "stream",
     "text": [
      "C:\\Users\\User\\AppData\\Local\\Temp\\ipykernel_15648\\1784366901.py:6: RuntimeWarning: invalid value encountered in scalar divide\n",
      "  return np.dot(u, v)/(np.linalg.norm(u)*np.linalg.norm(v))\n",
      "C:\\Users\\User\\AppData\\Local\\Temp\\ipykernel_15648\\1784366901.py:6: RuntimeWarning: invalid value encountered in scalar divide\n",
      "  return np.dot(u, v)/(np.linalg.norm(u)*np.linalg.norm(v))\n"
     ]
    },
    {
     "name": "stdout",
     "output_type": "stream",
     "text": [
      "314 218\n",
      "64 2\n",
      "270 25\n"
     ]
    },
    {
     "name": "stderr",
     "output_type": "stream",
     "text": [
      "C:\\Users\\User\\AppData\\Local\\Temp\\ipykernel_15648\\1784366901.py:6: RuntimeWarning: invalid value encountered in scalar divide\n",
      "  return np.dot(u, v)/(np.linalg.norm(u)*np.linalg.norm(v))\n",
      "C:\\Users\\User\\AppData\\Local\\Temp\\ipykernel_15648\\1784366901.py:6: RuntimeWarning: invalid value encountered in scalar divide\n",
      "  return np.dot(u, v)/(np.linalg.norm(u)*np.linalg.norm(v))\n"
     ]
    },
    {
     "name": "stdout",
     "output_type": "stream",
     "text": [
      "19 325\n"
     ]
    },
    {
     "name": "stderr",
     "output_type": "stream",
     "text": [
      "C:\\Users\\User\\AppData\\Local\\Temp\\ipykernel_15648\\1784366901.py:6: RuntimeWarning: invalid value encountered in scalar divide\n",
      "  return np.dot(u, v)/(np.linalg.norm(u)*np.linalg.norm(v))\n"
     ]
    },
    {
     "name": "stdout",
     "output_type": "stream",
     "text": [
      "406 367\n",
      "532 938\n",
      "26 249\n",
      "578 294\n"
     ]
    },
    {
     "name": "stderr",
     "output_type": "stream",
     "text": [
      "C:\\Users\\User\\AppData\\Local\\Temp\\ipykernel_15648\\1784366901.py:6: RuntimeWarning: invalid value encountered in scalar divide\n",
      "  return np.dot(u, v)/(np.linalg.norm(u)*np.linalg.norm(v))\n",
      "C:\\Users\\User\\AppData\\Local\\Temp\\ipykernel_15648\\1784366901.py:6: RuntimeWarning: invalid value encountered in scalar divide\n",
      "  return np.dot(u, v)/(np.linalg.norm(u)*np.linalg.norm(v))\n"
     ]
    },
    {
     "name": "stdout",
     "output_type": "stream",
     "text": [
      "283 412\n",
      "13 909\n",
      "195 373\n",
      "100 344\n",
      "279 405\n",
      "62 286\n"
     ]
    },
    {
     "name": "stderr",
     "output_type": "stream",
     "text": [
      "C:\\Users\\User\\AppData\\Local\\Temp\\ipykernel_15648\\1784366901.py:6: RuntimeWarning: invalid value encountered in scalar divide\n",
      "  return np.dot(u, v)/(np.linalg.norm(u)*np.linalg.norm(v))\n",
      "C:\\Users\\User\\AppData\\Local\\Temp\\ipykernel_15648\\1784366901.py:6: RuntimeWarning: invalid value encountered in scalar divide\n",
      "  return np.dot(u, v)/(np.linalg.norm(u)*np.linalg.norm(v))\n"
     ]
    },
    {
     "name": "stdout",
     "output_type": "stream",
     "text": [
      "90 739\n",
      "665 33\n",
      "531 1316\n",
      "109 797\n",
      "385 191\n",
      "207 631\n",
      "782 1609\n",
      "537 70\n",
      "552 932\n",
      "62 14\n",
      "11 399\n",
      "339 276\n",
      "255 569\n",
      "336 13\n",
      "633 651\n",
      "160 117\n",
      "316 180\n",
      "416 301\n",
      "754 292\n"
     ]
    },
    {
     "name": "stderr",
     "output_type": "stream",
     "text": [
      "C:\\Users\\User\\AppData\\Local\\Temp\\ipykernel_15648\\1784366901.py:6: RuntimeWarning: invalid value encountered in scalar divide\n",
      "  return np.dot(u, v)/(np.linalg.norm(u)*np.linalg.norm(v))\n",
      "C:\\Users\\User\\AppData\\Local\\Temp\\ipykernel_15648\\1784366901.py:6: RuntimeWarning: invalid value encountered in scalar divide\n",
      "  return np.dot(u, v)/(np.linalg.norm(u)*np.linalg.norm(v))\n"
     ]
    },
    {
     "name": "stdout",
     "output_type": "stream",
     "text": [
      "488 845\n",
      "380 1404\n",
      "188 118\n",
      "394 578\n",
      "152 241\n",
      "929 172\n",
      "387 192\n",
      "833 1210\n",
      "116 343\n",
      "504 623\n",
      "447 27\n",
      "654 258\n"
     ]
    },
    {
     "name": "stderr",
     "output_type": "stream",
     "text": [
      "C:\\Users\\User\\AppData\\Local\\Temp\\ipykernel_15648\\1784366901.py:6: RuntimeWarning: invalid value encountered in scalar divide\n",
      "  return np.dot(u, v)/(np.linalg.norm(u)*np.linalg.norm(v))\n",
      "C:\\Users\\User\\AppData\\Local\\Temp\\ipykernel_15648\\1784366901.py:6: RuntimeWarning: invalid value encountered in scalar divide\n",
      "  return np.dot(u, v)/(np.linalg.norm(u)*np.linalg.norm(v))\n"
     ]
    },
    {
     "name": "stdout",
     "output_type": "stream",
     "text": [
      "653 521\n",
      "385 474\n",
      "815 524\n",
      "520 690\n"
     ]
    },
    {
     "name": "stderr",
     "output_type": "stream",
     "text": [
      "C:\\Users\\User\\AppData\\Local\\Temp\\ipykernel_15648\\1784366901.py:6: RuntimeWarning: invalid value encountered in scalar divide\n",
      "  return np.dot(u, v)/(np.linalg.norm(u)*np.linalg.norm(v))\n",
      "C:\\Users\\User\\AppData\\Local\\Temp\\ipykernel_15648\\1784366901.py:6: RuntimeWarning: invalid value encountered in scalar divide\n",
      "  return np.dot(u, v)/(np.linalg.norm(u)*np.linalg.norm(v))\n"
     ]
    },
    {
     "name": "stdout",
     "output_type": "stream",
     "text": [
      "868 158\n",
      "645 59\n",
      "798 993\n",
      "449 285\n",
      "193 508\n",
      "771 768\n",
      "176 293\n",
      "585 923\n",
      "396 323\n"
     ]
    },
    {
     "name": "stderr",
     "output_type": "stream",
     "text": [
      "C:\\Users\\User\\AppData\\Local\\Temp\\ipykernel_15648\\1784366901.py:6: RuntimeWarning: invalid value encountered in scalar divide\n",
      "  return np.dot(u, v)/(np.linalg.norm(u)*np.linalg.norm(v))\n",
      "C:\\Users\\User\\AppData\\Local\\Temp\\ipykernel_15648\\1784366901.py:6: RuntimeWarning: invalid value encountered in scalar divide\n",
      "  return np.dot(u, v)/(np.linalg.norm(u)*np.linalg.norm(v))\n",
      "C:\\Users\\User\\AppData\\Local\\Temp\\ipykernel_15648\\1784366901.py:6: RuntimeWarning: invalid value encountered in scalar divide\n",
      "  return np.dot(u, v)/(np.linalg.norm(u)*np.linalg.norm(v))\n"
     ]
    },
    {
     "name": "stdout",
     "output_type": "stream",
     "text": [
      "328 736\n",
      "385 874\n",
      "617 134\n"
     ]
    },
    {
     "name": "stderr",
     "output_type": "stream",
     "text": [
      "C:\\Users\\User\\AppData\\Local\\Temp\\ipykernel_15648\\1784366901.py:6: RuntimeWarning: invalid value encountered in scalar divide\n",
      "  return np.dot(u, v)/(np.linalg.norm(u)*np.linalg.norm(v))\n",
      "C:\\Users\\User\\AppData\\Local\\Temp\\ipykernel_15648\\1784366901.py:6: RuntimeWarning: invalid value encountered in scalar divide\n",
      "  return np.dot(u, v)/(np.linalg.norm(u)*np.linalg.norm(v))\n"
     ]
    },
    {
     "name": "stdout",
     "output_type": "stream",
     "text": [
      "653 211\n",
      "184 529\n",
      "763 879\n"
     ]
    },
    {
     "name": "stderr",
     "output_type": "stream",
     "text": [
      "C:\\Users\\User\\AppData\\Local\\Temp\\ipykernel_15648\\1784366901.py:6: RuntimeWarning: invalid value encountered in scalar divide\n",
      "  return np.dot(u, v)/(np.linalg.norm(u)*np.linalg.norm(v))\n",
      "C:\\Users\\User\\AppData\\Local\\Temp\\ipykernel_15648\\1784366901.py:6: RuntimeWarning: invalid value encountered in scalar divide\n",
      "  return np.dot(u, v)/(np.linalg.norm(u)*np.linalg.norm(v))\n"
     ]
    },
    {
     "name": "stdout",
     "output_type": "stream",
     "text": [
      "638 29\n",
      "54 340\n",
      "22 154\n",
      "591 508\n",
      "846 396\n",
      "393 1244\n",
      "577 739\n",
      "515 1430\n",
      "406 357\n",
      "666 111\n",
      "883 922\n",
      "345 12\n",
      "6 519\n",
      "561 64\n",
      "883 732\n",
      "567 527\n",
      "617 567\n",
      "85 482\n",
      "164 333\n"
     ]
    },
    {
     "name": "stderr",
     "output_type": "stream",
     "text": [
      "C:\\Users\\User\\AppData\\Local\\Temp\\ipykernel_15648\\1784366901.py:6: RuntimeWarning: invalid value encountered in scalar divide\n",
      "  return np.dot(u, v)/(np.linalg.norm(u)*np.linalg.norm(v))\n",
      "C:\\Users\\User\\AppData\\Local\\Temp\\ipykernel_15648\\1784366901.py:6: RuntimeWarning: invalid value encountered in scalar divide\n",
      "  return np.dot(u, v)/(np.linalg.norm(u)*np.linalg.norm(v))\n"
     ]
    },
    {
     "name": "stdout",
     "output_type": "stream",
     "text": [
      "40 303\n"
     ]
    },
    {
     "name": "stderr",
     "output_type": "stream",
     "text": [
      "C:\\Users\\User\\AppData\\Local\\Temp\\ipykernel_15648\\1784366901.py:6: RuntimeWarning: invalid value encountered in scalar divide\n",
      "  return np.dot(u, v)/(np.linalg.norm(u)*np.linalg.norm(v))\n"
     ]
    },
    {
     "name": "stdout",
     "output_type": "stream",
     "text": [
      "937 137\n"
     ]
    },
    {
     "name": "stderr",
     "output_type": "stream",
     "text": [
      "C:\\Users\\User\\AppData\\Local\\Temp\\ipykernel_15648\\1784366901.py:6: RuntimeWarning: invalid value encountered in scalar divide\n",
      "  return np.dot(u, v)/(np.linalg.norm(u)*np.linalg.norm(v))\n"
     ]
    },
    {
     "name": "stdout",
     "output_type": "stream",
     "text": [
      "405 656\n",
      "456 238\n",
      "655 912\n",
      "223 620\n",
      "560 845\n",
      "337 222\n"
     ]
    },
    {
     "name": "stderr",
     "output_type": "stream",
     "text": [
      "C:\\Users\\User\\AppData\\Local\\Temp\\ipykernel_15648\\1784366901.py:6: RuntimeWarning: invalid value encountered in scalar divide\n",
      "  return np.dot(u, v)/(np.linalg.norm(u)*np.linalg.norm(v))\n",
      "C:\\Users\\User\\AppData\\Local\\Temp\\ipykernel_15648\\1784366901.py:6: RuntimeWarning: invalid value encountered in scalar divide\n",
      "  return np.dot(u, v)/(np.linalg.norm(u)*np.linalg.norm(v))\n"
     ]
    },
    {
     "name": "stdout",
     "output_type": "stream",
     "text": [
      "461 255\n"
     ]
    },
    {
     "name": "stderr",
     "output_type": "stream",
     "text": [
      "C:\\Users\\User\\AppData\\Local\\Temp\\ipykernel_15648\\1784366901.py:6: RuntimeWarning: invalid value encountered in scalar divide\n",
      "  return np.dot(u, v)/(np.linalg.norm(u)*np.linalg.norm(v))\n"
     ]
    },
    {
     "name": "stdout",
     "output_type": "stream",
     "text": [
      "344 313\n",
      "878 474\n",
      "892 229\n",
      "601 178\n",
      "734 294\n"
     ]
    },
    {
     "name": "stderr",
     "output_type": "stream",
     "text": [
      "C:\\Users\\User\\AppData\\Local\\Temp\\ipykernel_15648\\1784366901.py:6: RuntimeWarning: invalid value encountered in scalar divide\n",
      "  return np.dot(u, v)/(np.linalg.norm(u)*np.linalg.norm(v))\n",
      "C:\\Users\\User\\AppData\\Local\\Temp\\ipykernel_15648\\1784366901.py:6: RuntimeWarning: invalid value encountered in scalar divide\n",
      "  return np.dot(u, v)/(np.linalg.norm(u)*np.linalg.norm(v))\n"
     ]
    },
    {
     "name": "stdout",
     "output_type": "stream",
     "text": [
      "641 203\n"
     ]
    },
    {
     "name": "stderr",
     "output_type": "stream",
     "text": [
      "C:\\Users\\User\\AppData\\Local\\Temp\\ipykernel_15648\\1784366901.py:6: RuntimeWarning: invalid value encountered in scalar divide\n",
      "  return np.dot(u, v)/(np.linalg.norm(u)*np.linalg.norm(v))\n"
     ]
    },
    {
     "name": "stdout",
     "output_type": "stream",
     "text": [
      "334 1198\n",
      "72 476\n",
      "255 860\n",
      "429 288\n"
     ]
    },
    {
     "name": "stderr",
     "output_type": "stream",
     "text": [
      "C:\\Users\\User\\AppData\\Local\\Temp\\ipykernel_15648\\1784366901.py:6: RuntimeWarning: invalid value encountered in scalar divide\n",
      "  return np.dot(u, v)/(np.linalg.norm(u)*np.linalg.norm(v))\n",
      "C:\\Users\\User\\AppData\\Local\\Temp\\ipykernel_15648\\1784366901.py:6: RuntimeWarning: invalid value encountered in scalar divide\n",
      "  return np.dot(u, v)/(np.linalg.norm(u)*np.linalg.norm(v))\n"
     ]
    },
    {
     "name": "stdout",
     "output_type": "stream",
     "text": [
      "645 513\n",
      "342 724\n",
      "344 562\n",
      "230 51\n",
      "405 1274\n",
      "541 622\n",
      "790 226\n",
      "456 959\n",
      "281 301\n"
     ]
    },
    {
     "name": "stderr",
     "output_type": "stream",
     "text": [
      "C:\\Users\\User\\AppData\\Local\\Temp\\ipykernel_15648\\1784366901.py:6: RuntimeWarning: invalid value encountered in scalar divide\n",
      "  return np.dot(u, v)/(np.linalg.norm(u)*np.linalg.norm(v))\n",
      "C:\\Users\\User\\AppData\\Local\\Temp\\ipykernel_15648\\1784366901.py:6: RuntimeWarning: invalid value encountered in scalar divide\n",
      "  return np.dot(u, v)/(np.linalg.norm(u)*np.linalg.norm(v))\n"
     ]
    },
    {
     "name": "stdout",
     "output_type": "stream",
     "text": [
      "551 447\n",
      "833 1353\n",
      "442 68\n",
      "468 275\n",
      "846 565\n",
      "159 286\n"
     ]
    },
    {
     "name": "stderr",
     "output_type": "stream",
     "text": [
      "C:\\Users\\User\\AppData\\Local\\Temp\\ipykernel_15648\\1784366901.py:6: RuntimeWarning: invalid value encountered in scalar divide\n",
      "  return np.dot(u, v)/(np.linalg.norm(u)*np.linalg.norm(v))\n",
      "C:\\Users\\User\\AppData\\Local\\Temp\\ipykernel_15648\\1784366901.py:6: RuntimeWarning: invalid value encountered in scalar divide\n",
      "  return np.dot(u, v)/(np.linalg.norm(u)*np.linalg.norm(v))\n"
     ]
    },
    {
     "name": "stdout",
     "output_type": "stream",
     "text": [
      "856 307\n"
     ]
    },
    {
     "name": "stderr",
     "output_type": "stream",
     "text": [
      "C:\\Users\\User\\AppData\\Local\\Temp\\ipykernel_15648\\1784366901.py:6: RuntimeWarning: invalid value encountered in scalar divide\n",
      "  return np.dot(u, v)/(np.linalg.norm(u)*np.linalg.norm(v))\n"
     ]
    },
    {
     "name": "stdout",
     "output_type": "stream",
     "text": [
      "325 517\n",
      "363 443\n",
      "693 127\n"
     ]
    },
    {
     "name": "stderr",
     "output_type": "stream",
     "text": [
      "C:\\Users\\User\\AppData\\Local\\Temp\\ipykernel_15648\\1784366901.py:6: RuntimeWarning: invalid value encountered in scalar divide\n",
      "  return np.dot(u, v)/(np.linalg.norm(u)*np.linalg.norm(v))\n",
      "C:\\Users\\User\\AppData\\Local\\Temp\\ipykernel_15648\\1784366901.py:6: RuntimeWarning: invalid value encountered in scalar divide\n",
      "  return np.dot(u, v)/(np.linalg.norm(u)*np.linalg.norm(v))\n"
     ]
    },
    {
     "name": "stdout",
     "output_type": "stream",
     "text": [
      "502 261\n",
      "542 90\n"
     ]
    },
    {
     "name": "stderr",
     "output_type": "stream",
     "text": [
      "C:\\Users\\User\\AppData\\Local\\Temp\\ipykernel_15648\\1784366901.py:6: RuntimeWarning: invalid value encountered in scalar divide\n",
      "  return np.dot(u, v)/(np.linalg.norm(u)*np.linalg.norm(v))\n"
     ]
    },
    {
     "name": "stdout",
     "output_type": "stream",
     "text": [
      "682 683\n",
      "833 435\n",
      "405 1078\n",
      "138 602\n",
      "858 9\n"
     ]
    },
    {
     "name": "stderr",
     "output_type": "stream",
     "text": [
      "C:\\Users\\User\\AppData\\Local\\Temp\\ipykernel_15648\\1784366901.py:6: RuntimeWarning: invalid value encountered in scalar divide\n",
      "  return np.dot(u, v)/(np.linalg.norm(u)*np.linalg.norm(v))\n",
      "C:\\Users\\User\\AppData\\Local\\Temp\\ipykernel_15648\\1784366901.py:6: RuntimeWarning: invalid value encountered in scalar divide\n",
      "  return np.dot(u, v)/(np.linalg.norm(u)*np.linalg.norm(v))\n"
     ]
    },
    {
     "name": "stdout",
     "output_type": "stream",
     "text": [
      "797 948\n",
      "503 385\n"
     ]
    },
    {
     "name": "stderr",
     "output_type": "stream",
     "text": [
      "C:\\Users\\User\\AppData\\Local\\Temp\\ipykernel_15648\\1784366901.py:6: RuntimeWarning: invalid value encountered in scalar divide\n",
      "  return np.dot(u, v)/(np.linalg.norm(u)*np.linalg.norm(v))\n"
     ]
    },
    {
     "name": "stdout",
     "output_type": "stream",
     "text": [
      "643 154\n",
      "886 1048\n",
      "774 82\n",
      "82 9\n",
      "328 689\n",
      "721 199\n",
      "267 475\n"
     ]
    },
    {
     "name": "stderr",
     "output_type": "stream",
     "text": [
      "C:\\Users\\User\\AppData\\Local\\Temp\\ipykernel_15648\\1784366901.py:6: RuntimeWarning: invalid value encountered in scalar divide\n",
      "  return np.dot(u, v)/(np.linalg.norm(u)*np.linalg.norm(v))\n",
      "C:\\Users\\User\\AppData\\Local\\Temp\\ipykernel_15648\\1784366901.py:6: RuntimeWarning: invalid value encountered in scalar divide\n",
      "  return np.dot(u, v)/(np.linalg.norm(u)*np.linalg.norm(v))\n"
     ]
    },
    {
     "name": "stdout",
     "output_type": "stream",
     "text": [
      "327 89\n",
      "651 268\n"
     ]
    },
    {
     "name": "stderr",
     "output_type": "stream",
     "text": [
      "C:\\Users\\User\\AppData\\Local\\Temp\\ipykernel_15648\\1784366901.py:6: RuntimeWarning: invalid value encountered in scalar divide\n",
      "  return np.dot(u, v)/(np.linalg.norm(u)*np.linalg.norm(v))\n",
      "C:\\Users\\User\\AppData\\Local\\Temp\\ipykernel_15648\\1784366901.py:6: RuntimeWarning: invalid value encountered in scalar divide\n",
      "  return np.dot(u, v)/(np.linalg.norm(u)*np.linalg.norm(v))\n"
     ]
    },
    {
     "name": "stdout",
     "output_type": "stream",
     "text": [
      "378 300\n",
      "99 402\n",
      "486 281\n",
      "843 441\n",
      "56 1092\n",
      "892 661\n",
      "201 679\n",
      "916 70\n",
      "679 751\n"
     ]
    },
    {
     "name": "stderr",
     "output_type": "stream",
     "text": [
      "C:\\Users\\User\\AppData\\Local\\Temp\\ipykernel_15648\\1784366901.py:6: RuntimeWarning: invalid value encountered in scalar divide\n",
      "  return np.dot(u, v)/(np.linalg.norm(u)*np.linalg.norm(v))\n",
      "C:\\Users\\User\\AppData\\Local\\Temp\\ipykernel_15648\\1784366901.py:6: RuntimeWarning: invalid value encountered in scalar divide\n",
      "  return np.dot(u, v)/(np.linalg.norm(u)*np.linalg.norm(v))\n"
     ]
    },
    {
     "name": "stdout",
     "output_type": "stream",
     "text": [
      "859 475\n"
     ]
    },
    {
     "name": "stderr",
     "output_type": "stream",
     "text": [
      "C:\\Users\\User\\AppData\\Local\\Temp\\ipykernel_15648\\1784366901.py:6: RuntimeWarning: invalid value encountered in scalar divide\n",
      "  return np.dot(u, v)/(np.linalg.norm(u)*np.linalg.norm(v))\n"
     ]
    },
    {
     "name": "stdout",
     "output_type": "stream",
     "text": [
      "7 480\n",
      "690 80\n",
      "250 153\n",
      "728 100\n"
     ]
    },
    {
     "name": "stderr",
     "output_type": "stream",
     "text": [
      "C:\\Users\\User\\AppData\\Local\\Temp\\ipykernel_15648\\1784366901.py:6: RuntimeWarning: invalid value encountered in scalar divide\n",
      "  return np.dot(u, v)/(np.linalg.norm(u)*np.linalg.norm(v))\n",
      "C:\\Users\\User\\AppData\\Local\\Temp\\ipykernel_15648\\1784366901.py:6: RuntimeWarning: invalid value encountered in scalar divide\n",
      "  return np.dot(u, v)/(np.linalg.norm(u)*np.linalg.norm(v))\n"
     ]
    },
    {
     "name": "stdout",
     "output_type": "stream",
     "text": [
      "269 715\n",
      "588 552\n",
      "151 792\n",
      "188 218\n",
      "903 708\n",
      "178 480\n",
      "554 15\n",
      "773 145\n",
      "293 188\n",
      "249 408\n",
      "35 328\n"
     ]
    },
    {
     "name": "stderr",
     "output_type": "stream",
     "text": [
      "C:\\Users\\User\\AppData\\Local\\Temp\\ipykernel_15648\\1784366901.py:6: RuntimeWarning: invalid value encountered in scalar divide\n",
      "  return np.dot(u, v)/(np.linalg.norm(u)*np.linalg.norm(v))\n",
      "C:\\Users\\User\\AppData\\Local\\Temp\\ipykernel_15648\\1784366901.py:6: RuntimeWarning: invalid value encountered in scalar divide\n",
      "  return np.dot(u, v)/(np.linalg.norm(u)*np.linalg.norm(v))\n"
     ]
    },
    {
     "name": "stdout",
     "output_type": "stream",
     "text": [
      "64 284\n",
      "1 233\n",
      "763 96\n",
      "545 182\n"
     ]
    },
    {
     "name": "stderr",
     "output_type": "stream",
     "text": [
      "C:\\Users\\User\\AppData\\Local\\Temp\\ipykernel_15648\\1784366901.py:6: RuntimeWarning: invalid value encountered in scalar divide\n",
      "  return np.dot(u, v)/(np.linalg.norm(u)*np.linalg.norm(v))\n",
      "C:\\Users\\User\\AppData\\Local\\Temp\\ipykernel_15648\\1784366901.py:6: RuntimeWarning: invalid value encountered in scalar divide\n",
      "  return np.dot(u, v)/(np.linalg.norm(u)*np.linalg.norm(v))\n"
     ]
    },
    {
     "name": "stdout",
     "output_type": "stream",
     "text": [
      "153 568\n"
     ]
    },
    {
     "name": "stderr",
     "output_type": "stream",
     "text": [
      "C:\\Users\\User\\AppData\\Local\\Temp\\ipykernel_15648\\1784366901.py:6: RuntimeWarning: invalid value encountered in scalar divide\n",
      "  return np.dot(u, v)/(np.linalg.norm(u)*np.linalg.norm(v))\n"
     ]
    },
    {
     "name": "stdout",
     "output_type": "stream",
     "text": [
      "59 582\n",
      "870 302\n",
      "339 188\n",
      "536 493\n",
      "518 1114\n",
      "698 294\n"
     ]
    },
    {
     "name": "stderr",
     "output_type": "stream",
     "text": [
      "C:\\Users\\User\\AppData\\Local\\Temp\\ipykernel_15648\\1784366901.py:6: RuntimeWarning: invalid value encountered in scalar divide\n",
      "  return np.dot(u, v)/(np.linalg.norm(u)*np.linalg.norm(v))\n",
      "C:\\Users\\User\\AppData\\Local\\Temp\\ipykernel_15648\\1784366901.py:6: RuntimeWarning: invalid value encountered in scalar divide\n",
      "  return np.dot(u, v)/(np.linalg.norm(u)*np.linalg.norm(v))\n"
     ]
    },
    {
     "name": "stdout",
     "output_type": "stream",
     "text": [
      "1 159\n",
      "524 1074\n",
      "125 478\n",
      "28 117\n"
     ]
    },
    {
     "name": "stderr",
     "output_type": "stream",
     "text": [
      "C:\\Users\\User\\AppData\\Local\\Temp\\ipykernel_15648\\1784366901.py:6: RuntimeWarning: invalid value encountered in scalar divide\n",
      "  return np.dot(u, v)/(np.linalg.norm(u)*np.linalg.norm(v))\n",
      "C:\\Users\\User\\AppData\\Local\\Temp\\ipykernel_15648\\1784366901.py:6: RuntimeWarning: invalid value encountered in scalar divide\n",
      "  return np.dot(u, v)/(np.linalg.norm(u)*np.linalg.norm(v))\n"
     ]
    },
    {
     "name": "stdout",
     "output_type": "stream",
     "text": [
      "805 554\n",
      "303 574\n",
      "913 83\n",
      "823 1070\n",
      "140 258\n"
     ]
    },
    {
     "name": "stderr",
     "output_type": "stream",
     "text": [
      "C:\\Users\\User\\AppData\\Local\\Temp\\ipykernel_15648\\1784366901.py:6: RuntimeWarning: invalid value encountered in scalar divide\n",
      "  return np.dot(u, v)/(np.linalg.norm(u)*np.linalg.norm(v))\n",
      "C:\\Users\\User\\AppData\\Local\\Temp\\ipykernel_15648\\1784366901.py:6: RuntimeWarning: invalid value encountered in scalar divide\n",
      "  return np.dot(u, v)/(np.linalg.norm(u)*np.linalg.norm(v))\n"
     ]
    },
    {
     "name": "stdout",
     "output_type": "stream",
     "text": [
      "904 9\n"
     ]
    },
    {
     "name": "stderr",
     "output_type": "stream",
     "text": [
      "C:\\Users\\User\\AppData\\Local\\Temp\\ipykernel_15648\\1784366901.py:6: RuntimeWarning: invalid value encountered in scalar divide\n",
      "  return np.dot(u, v)/(np.linalg.norm(u)*np.linalg.norm(v))\n"
     ]
    },
    {
     "name": "stdout",
     "output_type": "stream",
     "text": [
      "378 241\n",
      "549 181\n"
     ]
    },
    {
     "name": "stderr",
     "output_type": "stream",
     "text": [
      "C:\\Users\\User\\AppData\\Local\\Temp\\ipykernel_15648\\1784366901.py:6: RuntimeWarning: invalid value encountered in scalar divide\n",
      "  return np.dot(u, v)/(np.linalg.norm(u)*np.linalg.norm(v))\n",
      "C:\\Users\\User\\AppData\\Local\\Temp\\ipykernel_15648\\1784366901.py:6: RuntimeWarning: invalid value encountered in scalar divide\n",
      "  return np.dot(u, v)/(np.linalg.norm(u)*np.linalg.norm(v))\n"
     ]
    },
    {
     "name": "stdout",
     "output_type": "stream",
     "text": [
      "60 609\n",
      "387 93\n",
      "771 216\n",
      "94 94\n",
      "328 692\n",
      "561 273\n",
      "405 1055\n",
      "152 411\n",
      "276 1074\n",
      "829 529\n",
      "864 11\n",
      "537 273\n",
      "42 403\n",
      "498 423\n",
      "13 50\n",
      "757 576\n",
      "305 143\n",
      "507 345\n",
      "798 746\n",
      "450 483\n",
      "435 413\n",
      "542 775\n",
      "663 763\n",
      "234 502\n",
      "588 423\n",
      "256 181\n",
      "387 210\n",
      "771 496\n",
      "661 298\n",
      "145 685\n",
      "839 1\n"
     ]
    },
    {
     "name": "stderr",
     "output_type": "stream",
     "text": [
      "C:\\Users\\User\\AppData\\Local\\Temp\\ipykernel_15648\\1784366901.py:6: RuntimeWarning: invalid value encountered in scalar divide\n",
      "  return np.dot(u, v)/(np.linalg.norm(u)*np.linalg.norm(v))\n",
      "C:\\Users\\User\\AppData\\Local\\Temp\\ipykernel_15648\\1784366901.py:6: RuntimeWarning: invalid value encountered in scalar divide\n",
      "  return np.dot(u, v)/(np.linalg.norm(u)*np.linalg.norm(v))\n"
     ]
    },
    {
     "name": "stdout",
     "output_type": "stream",
     "text": [
      "566 89\n",
      "312 100\n"
     ]
    },
    {
     "name": "stderr",
     "output_type": "stream",
     "text": [
      "C:\\Users\\User\\AppData\\Local\\Temp\\ipykernel_15648\\1784366901.py:6: RuntimeWarning: invalid value encountered in scalar divide\n",
      "  return np.dot(u, v)/(np.linalg.norm(u)*np.linalg.norm(v))\n",
      "C:\\Users\\User\\AppData\\Local\\Temp\\ipykernel_15648\\1784366901.py:6: RuntimeWarning: invalid value encountered in scalar divide\n",
      "  return np.dot(u, v)/(np.linalg.norm(u)*np.linalg.norm(v))\n"
     ]
    },
    {
     "name": "stdout",
     "output_type": "stream",
     "text": [
      "249 114\n",
      "450 588\n",
      "497 183\n",
      "110 808\n",
      "817 328\n"
     ]
    },
    {
     "name": "stderr",
     "output_type": "stream",
     "text": [
      "C:\\Users\\User\\AppData\\Local\\Temp\\ipykernel_15648\\1784366901.py:6: RuntimeWarning: invalid value encountered in scalar divide\n",
      "  return np.dot(u, v)/(np.linalg.norm(u)*np.linalg.norm(v))\n",
      "C:\\Users\\User\\AppData\\Local\\Temp\\ipykernel_15648\\1784366901.py:6: RuntimeWarning: invalid value encountered in scalar divide\n",
      "  return np.dot(u, v)/(np.linalg.norm(u)*np.linalg.norm(v))\n"
     ]
    },
    {
     "name": "stdout",
     "output_type": "stream",
     "text": [
      "255 826\n",
      "932 613\n",
      "224 239\n",
      "880 55\n",
      "234 241\n",
      "889 944\n",
      "97 28\n",
      "417 373\n",
      "119 12\n",
      "805 1065\n",
      "393 67\n",
      "524 32\n",
      "163 234\n"
     ]
    },
    {
     "name": "stderr",
     "output_type": "stream",
     "text": [
      "C:\\Users\\User\\AppData\\Local\\Temp\\ipykernel_15648\\1784366901.py:6: RuntimeWarning: invalid value encountered in scalar divide\n",
      "  return np.dot(u, v)/(np.linalg.norm(u)*np.linalg.norm(v))\n",
      "C:\\Users\\User\\AppData\\Local\\Temp\\ipykernel_15648\\1784366901.py:6: RuntimeWarning: invalid value encountered in scalar divide\n",
      "  return np.dot(u, v)/(np.linalg.norm(u)*np.linalg.norm(v))\n"
     ]
    },
    {
     "name": "stdout",
     "output_type": "stream",
     "text": [
      "774 217\n",
      "746 128\n",
      "6 64\n",
      "682 241\n",
      "304 111\n"
     ]
    },
    {
     "name": "stderr",
     "output_type": "stream",
     "text": [
      "C:\\Users\\User\\AppData\\Local\\Temp\\ipykernel_15648\\1784366901.py:6: RuntimeWarning: invalid value encountered in scalar divide\n",
      "  return np.dot(u, v)/(np.linalg.norm(u)*np.linalg.norm(v))\n",
      "C:\\Users\\User\\AppData\\Local\\Temp\\ipykernel_15648\\1784366901.py:6: RuntimeWarning: invalid value encountered in scalar divide\n",
      "  return np.dot(u, v)/(np.linalg.norm(u)*np.linalg.norm(v))\n"
     ]
    },
    {
     "name": "stdout",
     "output_type": "stream",
     "text": [
      "283 1009\n",
      "536 181\n"
     ]
    },
    {
     "name": "stderr",
     "output_type": "stream",
     "text": [
      "C:\\Users\\User\\AppData\\Local\\Temp\\ipykernel_15648\\1784366901.py:6: RuntimeWarning: invalid value encountered in scalar divide\n",
      "  return np.dot(u, v)/(np.linalg.norm(u)*np.linalg.norm(v))\n",
      "C:\\Users\\User\\AppData\\Local\\Temp\\ipykernel_15648\\1784366901.py:6: RuntimeWarning: invalid value encountered in scalar divide\n",
      "  return np.dot(u, v)/(np.linalg.norm(u)*np.linalg.norm(v))\n"
     ]
    },
    {
     "name": "stdout",
     "output_type": "stream",
     "text": [
      "942 234\n"
     ]
    },
    {
     "name": "stderr",
     "output_type": "stream",
     "text": [
      "C:\\Users\\User\\AppData\\Local\\Temp\\ipykernel_15648\\1784366901.py:6: RuntimeWarning: invalid value encountered in scalar divide\n",
      "  return np.dot(u, v)/(np.linalg.norm(u)*np.linalg.norm(v))\n"
     ]
    },
    {
     "name": "stdout",
     "output_type": "stream",
     "text": [
      "878 949\n",
      "94 172\n",
      "638 172\n"
     ]
    },
    {
     "name": "stderr",
     "output_type": "stream",
     "text": [
      "C:\\Users\\User\\AppData\\Local\\Temp\\ipykernel_15648\\1784366901.py:6: RuntimeWarning: invalid value encountered in scalar divide\n",
      "  return np.dot(u, v)/(np.linalg.norm(u)*np.linalg.norm(v))\n",
      "C:\\Users\\User\\AppData\\Local\\Temp\\ipykernel_15648\\1784366901.py:6: RuntimeWarning: invalid value encountered in scalar divide\n",
      "  return np.dot(u, v)/(np.linalg.norm(u)*np.linalg.norm(v))\n"
     ]
    },
    {
     "name": "stdout",
     "output_type": "stream",
     "text": [
      "153 323\n"
     ]
    },
    {
     "name": "stderr",
     "output_type": "stream",
     "text": [
      "C:\\Users\\User\\AppData\\Local\\Temp\\ipykernel_15648\\1784366901.py:6: RuntimeWarning: invalid value encountered in scalar divide\n",
      "  return np.dot(u, v)/(np.linalg.norm(u)*np.linalg.norm(v))\n"
     ]
    },
    {
     "name": "stdout",
     "output_type": "stream",
     "text": [
      "445 744\n",
      "178 298\n",
      "18 153\n",
      "303 1224\n",
      "840 183\n",
      "766 175\n",
      "425 2\n",
      "663 876\n",
      "918 89\n"
     ]
    },
    {
     "name": "stderr",
     "output_type": "stream",
     "text": [
      "C:\\Users\\User\\AppData\\Local\\Temp\\ipykernel_15648\\1784366901.py:6: RuntimeWarning: invalid value encountered in scalar divide\n",
      "  return np.dot(u, v)/(np.linalg.norm(u)*np.linalg.norm(v))\n",
      "C:\\Users\\User\\AppData\\Local\\Temp\\ipykernel_15648\\1784366901.py:6: RuntimeWarning: invalid value encountered in scalar divide\n",
      "  return np.dot(u, v)/(np.linalg.norm(u)*np.linalg.norm(v))\n"
     ]
    },
    {
     "name": "stdout",
     "output_type": "stream",
     "text": [
      "286 53\n",
      "194 739\n",
      "484 625\n",
      "877 451\n",
      "21 596\n",
      "894 1010\n",
      "741 732\n",
      "896 96\n",
      "708 846\n",
      "682 797\n",
      "174 14\n"
     ]
    },
    {
     "name": "stderr",
     "output_type": "stream",
     "text": [
      "C:\\Users\\User\\AppData\\Local\\Temp\\ipykernel_15648\\1784366901.py:6: RuntimeWarning: invalid value encountered in scalar divide\n",
      "  return np.dot(u, v)/(np.linalg.norm(u)*np.linalg.norm(v))\n",
      "C:\\Users\\User\\AppData\\Local\\Temp\\ipykernel_15648\\1784366901.py:6: RuntimeWarning: invalid value encountered in scalar divide\n",
      "  return np.dot(u, v)/(np.linalg.norm(u)*np.linalg.norm(v))\n"
     ]
    },
    {
     "name": "stdout",
     "output_type": "stream",
     "text": [
      "279 25\n",
      "230 204\n",
      "606 393\n",
      "715 216\n",
      "537 495\n",
      "64 433\n",
      "18 494\n",
      "796 236\n",
      "505 210\n",
      "144 298\n",
      "942 484\n",
      "430 222\n",
      "103 234\n"
     ]
    },
    {
     "name": "stderr",
     "output_type": "stream",
     "text": [
      "C:\\Users\\User\\AppData\\Local\\Temp\\ipykernel_15648\\1784366901.py:6: RuntimeWarning: invalid value encountered in scalar divide\n",
      "  return np.dot(u, v)/(np.linalg.norm(u)*np.linalg.norm(v))\n",
      "C:\\Users\\User\\AppData\\Local\\Temp\\ipykernel_15648\\1784366901.py:6: RuntimeWarning: invalid value encountered in scalar divide\n",
      "  return np.dot(u, v)/(np.linalg.norm(u)*np.linalg.norm(v))\n"
     ]
    },
    {
     "name": "stdout",
     "output_type": "stream",
     "text": [
      "798 204\n",
      "846 431\n",
      "880 172\n",
      "747 705\n",
      "826 1110\n",
      "765 286\n"
     ]
    },
    {
     "name": "stderr",
     "output_type": "stream",
     "text": [
      "C:\\Users\\User\\AppData\\Local\\Temp\\ipykernel_15648\\1784366901.py:6: RuntimeWarning: invalid value encountered in scalar divide\n",
      "  return np.dot(u, v)/(np.linalg.norm(u)*np.linalg.norm(v))\n",
      "C:\\Users\\User\\AppData\\Local\\Temp\\ipykernel_15648\\1784366901.py:6: RuntimeWarning: invalid value encountered in scalar divide\n",
      "  return np.dot(u, v)/(np.linalg.norm(u)*np.linalg.norm(v))\n"
     ]
    },
    {
     "name": "stdout",
     "output_type": "stream",
     "text": [
      "454 487\n",
      "639 427\n",
      "234 228\n",
      "617 606\n",
      "231 289\n"
     ]
    },
    {
     "name": "stderr",
     "output_type": "stream",
     "text": [
      "C:\\Users\\User\\AppData\\Local\\Temp\\ipykernel_15648\\1784366901.py:6: RuntimeWarning: invalid value encountered in scalar divide\n",
      "  return np.dot(u, v)/(np.linalg.norm(u)*np.linalg.norm(v))\n",
      "C:\\Users\\User\\AppData\\Local\\Temp\\ipykernel_15648\\1784366901.py:6: RuntimeWarning: invalid value encountered in scalar divide\n",
      "  return np.dot(u, v)/(np.linalg.norm(u)*np.linalg.norm(v))\n"
     ]
    },
    {
     "name": "stdout",
     "output_type": "stream",
     "text": [
      "805 65\n",
      "848 1065\n",
      "836 170\n"
     ]
    },
    {
     "name": "stderr",
     "output_type": "stream",
     "text": [
      "C:\\Users\\User\\AppData\\Local\\Temp\\ipykernel_15648\\1784366901.py:6: RuntimeWarning: invalid value encountered in scalar divide\n",
      "  return np.dot(u, v)/(np.linalg.norm(u)*np.linalg.norm(v))\n",
      "C:\\Users\\User\\AppData\\Local\\Temp\\ipykernel_15648\\1784366901.py:6: RuntimeWarning: invalid value encountered in scalar divide\n",
      "  return np.dot(u, v)/(np.linalg.norm(u)*np.linalg.norm(v))\n"
     ]
    },
    {
     "name": "stdout",
     "output_type": "stream",
     "text": [
      "311 750\n"
     ]
    },
    {
     "name": "stderr",
     "output_type": "stream",
     "text": [
      "C:\\Users\\User\\AppData\\Local\\Temp\\ipykernel_15648\\1784366901.py:6: RuntimeWarning: invalid value encountered in scalar divide\n",
      "  return np.dot(u, v)/(np.linalg.norm(u)*np.linalg.norm(v))\n"
     ]
    },
    {
     "name": "stdout",
     "output_type": "stream",
     "text": [
      "625 166\n",
      "269 170\n",
      "499 198\n",
      "394 73\n",
      "727 328\n",
      "498 187\n",
      "87 144\n",
      "327 265\n",
      "314 1210\n",
      "747 180\n",
      "795 1110\n",
      "405 642\n",
      "18 965\n",
      "600 720\n",
      "894 1007\n",
      "758 31\n",
      "357 123\n",
      "401 451\n",
      "417 135\n",
      "20 50\n"
     ]
    },
    {
     "name": "stderr",
     "output_type": "stream",
     "text": [
      "C:\\Users\\User\\AppData\\Local\\Temp\\ipykernel_15648\\1784366901.py:6: RuntimeWarning: invalid value encountered in scalar divide\n",
      "  return np.dot(u, v)/(np.linalg.norm(u)*np.linalg.norm(v))\n",
      "C:\\Users\\User\\AppData\\Local\\Temp\\ipykernel_15648\\1784366901.py:6: RuntimeWarning: invalid value encountered in scalar divide\n",
      "  return np.dot(u, v)/(np.linalg.norm(u)*np.linalg.norm(v))\n"
     ]
    },
    {
     "name": "stdout",
     "output_type": "stream",
     "text": [
      "345 51\n",
      "532 1136\n",
      "458 190\n",
      "292 190\n",
      "87 62\n",
      "318 49\n",
      "726 763\n",
      "484 82\n",
      "99 274\n",
      "174 151\n",
      "828 1597\n",
      "647 29\n",
      "437 1211\n",
      "62 283\n",
      "727 775\n",
      "389 526\n",
      "848 655\n",
      "111 301\n"
     ]
    },
    {
     "name": "stderr",
     "output_type": "stream",
     "text": [
      "C:\\Users\\User\\AppData\\Local\\Temp\\ipykernel_15648\\1784366901.py:6: RuntimeWarning: invalid value encountered in scalar divide\n",
      "  return np.dot(u, v)/(np.linalg.norm(u)*np.linalg.norm(v))\n",
      "C:\\Users\\User\\AppData\\Local\\Temp\\ipykernel_15648\\1784366901.py:6: RuntimeWarning: invalid value encountered in scalar divide\n",
      "  return np.dot(u, v)/(np.linalg.norm(u)*np.linalg.norm(v))\n"
     ]
    },
    {
     "name": "stdout",
     "output_type": "stream",
     "text": [
      "592 631\n",
      "295 86\n"
     ]
    },
    {
     "name": "stderr",
     "output_type": "stream",
     "text": [
      "C:\\Users\\User\\AppData\\Local\\Temp\\ipykernel_15648\\1784366901.py:6: RuntimeWarning: invalid value encountered in scalar divide\n",
      "  return np.dot(u, v)/(np.linalg.norm(u)*np.linalg.norm(v))\n",
      "C:\\Users\\User\\AppData\\Local\\Temp\\ipykernel_15648\\1784366901.py:6: RuntimeWarning: invalid value encountered in scalar divide\n",
      "  return np.dot(u, v)/(np.linalg.norm(u)*np.linalg.norm(v))\n"
     ]
    },
    {
     "name": "stdout",
     "output_type": "stream",
     "text": [
      "405 143\n",
      "314 196\n",
      "325 93\n",
      "279 1093\n",
      "7 174\n",
      "562 197\n",
      "342 301\n"
     ]
    },
    {
     "name": "stderr",
     "output_type": "stream",
     "text": [
      "C:\\Users\\User\\AppData\\Local\\Temp\\ipykernel_15648\\1784366901.py:6: RuntimeWarning: invalid value encountered in scalar divide\n",
      "  return np.dot(u, v)/(np.linalg.norm(u)*np.linalg.norm(v))\n",
      "C:\\Users\\User\\AppData\\Local\\Temp\\ipykernel_15648\\1784366901.py:6: RuntimeWarning: invalid value encountered in scalar divide\n",
      "  return np.dot(u, v)/(np.linalg.norm(u)*np.linalg.norm(v))\n"
     ]
    },
    {
     "name": "stdout",
     "output_type": "stream",
     "text": [
      "58 433\n",
      "630 1197\n",
      "711 315\n",
      "10 285\n",
      "854 628\n",
      "311 539\n",
      "314 812\n",
      "498 410\n"
     ]
    },
    {
     "name": "stderr",
     "output_type": "stream",
     "text": [
      "C:\\Users\\User\\AppData\\Local\\Temp\\ipykernel_15648\\1784366901.py:6: RuntimeWarning: invalid value encountered in scalar divide\n",
      "  return np.dot(u, v)/(np.linalg.norm(u)*np.linalg.norm(v))\n",
      "C:\\Users\\User\\AppData\\Local\\Temp\\ipykernel_15648\\1784366901.py:6: RuntimeWarning: invalid value encountered in scalar divide\n",
      "  return np.dot(u, v)/(np.linalg.norm(u)*np.linalg.norm(v))\n"
     ]
    },
    {
     "name": "stdout",
     "output_type": "stream",
     "text": [
      "805 259\n",
      "600 550\n",
      "160 160\n",
      "223 1\n",
      "257 936\n",
      "561 639\n",
      "891 866\n",
      "389 663\n",
      "682 56\n",
      "409 654\n",
      "181 20\n",
      "693 576\n",
      "142 346\n"
     ]
    },
    {
     "name": "stderr",
     "output_type": "stream",
     "text": [
      "C:\\Users\\User\\AppData\\Local\\Temp\\ipykernel_15648\\1784366901.py:6: RuntimeWarning: invalid value encountered in scalar divide\n",
      "  return np.dot(u, v)/(np.linalg.norm(u)*np.linalg.norm(v))\n",
      "C:\\Users\\User\\AppData\\Local\\Temp\\ipykernel_15648\\1784366901.py:6: RuntimeWarning: invalid value encountered in scalar divide\n",
      "  return np.dot(u, v)/(np.linalg.norm(u)*np.linalg.norm(v))\n"
     ]
    },
    {
     "name": "stdout",
     "output_type": "stream",
     "text": [
      "293 583\n",
      "653 188\n",
      "487 794\n",
      "577 402\n",
      "645 673\n",
      "864 134\n",
      "593 15\n",
      "108 515\n"
     ]
    },
    {
     "name": "stderr",
     "output_type": "stream",
     "text": [
      "C:\\Users\\User\\AppData\\Local\\Temp\\ipykernel_15648\\1784366901.py:6: RuntimeWarning: invalid value encountered in scalar divide\n",
      "  return np.dot(u, v)/(np.linalg.norm(u)*np.linalg.norm(v))\n",
      "C:\\Users\\User\\AppData\\Local\\Temp\\ipykernel_15648\\1784366901.py:6: RuntimeWarning: invalid value encountered in scalar divide\n",
      "  return np.dot(u, v)/(np.linalg.norm(u)*np.linalg.norm(v))\n"
     ]
    },
    {
     "name": "stdout",
     "output_type": "stream",
     "text": [
      "117 758\n",
      "774 91\n",
      "125 22\n",
      "23 652\n",
      "823 176\n",
      "497 774\n",
      "622 1216\n",
      "1 238\n",
      "345 535\n",
      "279 434\n",
      "425 161\n",
      "424 882\n",
      "391 490\n"
     ]
    },
    {
     "name": "stderr",
     "output_type": "stream",
     "text": [
      "C:\\Users\\User\\AppData\\Local\\Temp\\ipykernel_15648\\1784366901.py:6: RuntimeWarning: invalid value encountered in scalar divide\n",
      "  return np.dot(u, v)/(np.linalg.norm(u)*np.linalg.norm(v))\n",
      "C:\\Users\\User\\AppData\\Local\\Temp\\ipykernel_15648\\1784366901.py:6: RuntimeWarning: invalid value encountered in scalar divide\n",
      "  return np.dot(u, v)/(np.linalg.norm(u)*np.linalg.norm(v))\n"
     ]
    },
    {
     "name": "stdout",
     "output_type": "stream",
     "text": [
      "881 218\n",
      "682 117\n",
      "690 94\n"
     ]
    },
    {
     "name": "stderr",
     "output_type": "stream",
     "text": [
      "C:\\Users\\User\\AppData\\Local\\Temp\\ipykernel_15648\\1784366901.py:6: RuntimeWarning: invalid value encountered in scalar divide\n",
      "  return np.dot(u, v)/(np.linalg.norm(u)*np.linalg.norm(v))\n",
      "C:\\Users\\User\\AppData\\Local\\Temp\\ipykernel_15648\\1784366901.py:6: RuntimeWarning: invalid value encountered in scalar divide\n",
      "  return np.dot(u, v)/(np.linalg.norm(u)*np.linalg.norm(v))\n"
     ]
    },
    {
     "name": "stdout",
     "output_type": "stream",
     "text": [
      "870 939\n",
      "226 14\n"
     ]
    },
    {
     "name": "stderr",
     "output_type": "stream",
     "text": [
      "C:\\Users\\User\\AppData\\Local\\Temp\\ipykernel_15648\\1784366901.py:6: RuntimeWarning: invalid value encountered in scalar divide\n",
      "  return np.dot(u, v)/(np.linalg.norm(u)*np.linalg.norm(v))\n",
      "C:\\Users\\User\\AppData\\Local\\Temp\\ipykernel_15648\\1784366901.py:6: RuntimeWarning: invalid value encountered in scalar divide\n",
      "  return np.dot(u, v)/(np.linalg.norm(u)*np.linalg.norm(v))\n"
     ]
    },
    {
     "name": "stdout",
     "output_type": "stream",
     "text": [
      "348 240\n",
      "240 302\n"
     ]
    },
    {
     "name": "stderr",
     "output_type": "stream",
     "text": [
      "C:\\Users\\User\\AppData\\Local\\Temp\\ipykernel_15648\\1784366901.py:6: RuntimeWarning: invalid value encountered in scalar divide\n",
      "  return np.dot(u, v)/(np.linalg.norm(u)*np.linalg.norm(v))\n",
      "C:\\Users\\User\\AppData\\Local\\Temp\\ipykernel_15648\\1784366901.py:6: RuntimeWarning: invalid value encountered in scalar divide\n",
      "  return np.dot(u, v)/(np.linalg.norm(u)*np.linalg.norm(v))\n"
     ]
    },
    {
     "name": "stdout",
     "output_type": "stream",
     "text": [
      "635 269\n"
     ]
    },
    {
     "name": "stderr",
     "output_type": "stream",
     "text": [
      "C:\\Users\\User\\AppData\\Local\\Temp\\ipykernel_15648\\1784366901.py:6: RuntimeWarning: invalid value encountered in scalar divide\n",
      "  return np.dot(u, v)/(np.linalg.norm(u)*np.linalg.norm(v))\n"
     ]
    },
    {
     "name": "stdout",
     "output_type": "stream",
     "text": [
      "721 735\n",
      "798 367\n",
      "682 687\n",
      "222 685\n",
      "524 1044\n",
      "891 117\n"
     ]
    },
    {
     "name": "stderr",
     "output_type": "stream",
     "text": [
      "C:\\Users\\User\\AppData\\Local\\Temp\\ipykernel_15648\\1784366901.py:6: RuntimeWarning: invalid value encountered in scalar divide\n",
      "  return np.dot(u, v)/(np.linalg.norm(u)*np.linalg.norm(v))\n",
      "C:\\Users\\User\\AppData\\Local\\Temp\\ipykernel_15648\\1784366901.py:6: RuntimeWarning: invalid value encountered in scalar divide\n",
      "  return np.dot(u, v)/(np.linalg.norm(u)*np.linalg.norm(v))\n"
     ]
    },
    {
     "name": "stdout",
     "output_type": "stream",
     "text": [
      "634 756\n",
      "463 477\n",
      "410 300\n"
     ]
    },
    {
     "name": "stderr",
     "output_type": "stream",
     "text": [
      "C:\\Users\\User\\AppData\\Local\\Temp\\ipykernel_15648\\1784366901.py:6: RuntimeWarning: invalid value encountered in scalar divide\n",
      "  return np.dot(u, v)/(np.linalg.norm(u)*np.linalg.norm(v))\n",
      "C:\\Users\\User\\AppData\\Local\\Temp\\ipykernel_15648\\1784366901.py:6: RuntimeWarning: invalid value encountered in scalar divide\n",
      "  return np.dot(u, v)/(np.linalg.norm(u)*np.linalg.norm(v))\n"
     ]
    },
    {
     "name": "stdout",
     "output_type": "stream",
     "text": [
      "721 435\n",
      "442 559\n",
      "145 974\n",
      "73 127\n"
     ]
    },
    {
     "name": "stderr",
     "output_type": "stream",
     "text": [
      "C:\\Users\\User\\AppData\\Local\\Temp\\ipykernel_15648\\1784366901.py:6: RuntimeWarning: invalid value encountered in scalar divide\n",
      "  return np.dot(u, v)/(np.linalg.norm(u)*np.linalg.norm(v))\n",
      "C:\\Users\\User\\AppData\\Local\\Temp\\ipykernel_15648\\1784366901.py:6: RuntimeWarning: invalid value encountered in scalar divide\n",
      "  return np.dot(u, v)/(np.linalg.norm(u)*np.linalg.norm(v))\n"
     ]
    },
    {
     "name": "stdout",
     "output_type": "stream",
     "text": [
      "293 50\n",
      "295 132\n",
      "178 282\n",
      "216 196\n",
      "77 455\n",
      "595 1264\n",
      "654 144\n",
      "401 237\n",
      "650 620\n",
      "377 338\n"
     ]
    },
    {
     "name": "stderr",
     "output_type": "stream",
     "text": [
      "C:\\Users\\User\\AppData\\Local\\Temp\\ipykernel_15648\\1784366901.py:6: RuntimeWarning: invalid value encountered in scalar divide\n",
      "  return np.dot(u, v)/(np.linalg.norm(u)*np.linalg.norm(v))\n",
      "C:\\Users\\User\\AppData\\Local\\Temp\\ipykernel_15648\\1784366901.py:6: RuntimeWarning: invalid value encountered in scalar divide\n",
      "  return np.dot(u, v)/(np.linalg.norm(u)*np.linalg.norm(v))\n"
     ]
    },
    {
     "name": "stdout",
     "output_type": "stream",
     "text": [
      "648 219\n",
      "85 154\n",
      "848 204\n",
      "629 172\n",
      "286 390\n",
      "178 845\n",
      "493 754\n",
      "450 559\n",
      "69 237\n"
     ]
    },
    {
     "name": "stderr",
     "output_type": "stream",
     "text": [
      "C:\\Users\\User\\AppData\\Local\\Temp\\ipykernel_15648\\1784366901.py:6: RuntimeWarning: invalid value encountered in scalar divide\n",
      "  return np.dot(u, v)/(np.linalg.norm(u)*np.linalg.norm(v))\n",
      "C:\\Users\\User\\AppData\\Local\\Temp\\ipykernel_15648\\1784366901.py:6: RuntimeWarning: invalid value encountered in scalar divide\n",
      "  return np.dot(u, v)/(np.linalg.norm(u)*np.linalg.norm(v))\n"
     ]
    },
    {
     "name": "stdout",
     "output_type": "stream",
     "text": [
      "176 240\n",
      "387 193\n",
      "653 229\n",
      "629 7\n",
      "312 847\n",
      "694 482\n",
      "303 70\n",
      "805 180\n",
      "719 509\n",
      "276 294\n",
      "632 172\n",
      "843 739\n"
     ]
    },
    {
     "name": "stderr",
     "output_type": "stream",
     "text": [
      "C:\\Users\\User\\AppData\\Local\\Temp\\ipykernel_15648\\1784366901.py:6: RuntimeWarning: invalid value encountered in scalar divide\n",
      "  return np.dot(u, v)/(np.linalg.norm(u)*np.linalg.norm(v))\n",
      "C:\\Users\\User\\AppData\\Local\\Temp\\ipykernel_15648\\1784366901.py:6: RuntimeWarning: invalid value encountered in scalar divide\n",
      "  return np.dot(u, v)/(np.linalg.norm(u)*np.linalg.norm(v))\n"
     ]
    },
    {
     "name": "stdout",
     "output_type": "stream",
     "text": [
      "151 499\n",
      "886 182\n",
      "894 244\n",
      "230 926\n",
      "500 42\n",
      "151 121\n",
      "589 332\n"
     ]
    },
    {
     "name": "stderr",
     "output_type": "stream",
     "text": [
      "C:\\Users\\User\\AppData\\Local\\Temp\\ipykernel_15648\\1784366901.py:6: RuntimeWarning: invalid value encountered in scalar divide\n",
      "  return np.dot(u, v)/(np.linalg.norm(u)*np.linalg.norm(v))\n",
      "C:\\Users\\User\\AppData\\Local\\Temp\\ipykernel_15648\\1784366901.py:6: RuntimeWarning: invalid value encountered in scalar divide\n",
      "  return np.dot(u, v)/(np.linalg.norm(u)*np.linalg.norm(v))\n"
     ]
    },
    {
     "name": "stdout",
     "output_type": "stream",
     "text": [
      "1 100\n",
      "463 930\n",
      "807 1615\n",
      "610 352\n",
      "741 724\n",
      "215 218\n",
      "294 682\n",
      "112 754\n"
     ]
    },
    {
     "name": "stderr",
     "output_type": "stream",
     "text": [
      "C:\\Users\\User\\AppData\\Local\\Temp\\ipykernel_15648\\1784366901.py:6: RuntimeWarning: invalid value encountered in scalar divide\n",
      "  return np.dot(u, v)/(np.linalg.norm(u)*np.linalg.norm(v))\n",
      "C:\\Users\\User\\AppData\\Local\\Temp\\ipykernel_15648\\1784366901.py:6: RuntimeWarning: invalid value encountered in scalar divide\n",
      "  return np.dot(u, v)/(np.linalg.norm(u)*np.linalg.norm(v))\n"
     ]
    },
    {
     "name": "stdout",
     "output_type": "stream",
     "text": [
      "479 931\n",
      "330 427\n",
      "18 393\n",
      "219 855\n"
     ]
    },
    {
     "name": "stderr",
     "output_type": "stream",
     "text": [
      "C:\\Users\\User\\AppData\\Local\\Temp\\ipykernel_15648\\1784366901.py:6: RuntimeWarning: invalid value encountered in scalar divide\n",
      "  return np.dot(u, v)/(np.linalg.norm(u)*np.linalg.norm(v))\n",
      "C:\\Users\\User\\AppData\\Local\\Temp\\ipykernel_15648\\1784366901.py:6: RuntimeWarning: invalid value encountered in scalar divide\n",
      "  return np.dot(u, v)/(np.linalg.norm(u)*np.linalg.norm(v))\n"
     ]
    },
    {
     "name": "stdout",
     "output_type": "stream",
     "text": [
      "435 153\n",
      "38 153\n",
      "262 338\n"
     ]
    },
    {
     "name": "stderr",
     "output_type": "stream",
     "text": [
      "C:\\Users\\User\\AppData\\Local\\Temp\\ipykernel_15648\\1784366901.py:6: RuntimeWarning: invalid value encountered in scalar divide\n",
      "  return np.dot(u, v)/(np.linalg.norm(u)*np.linalg.norm(v))\n",
      "C:\\Users\\User\\AppData\\Local\\Temp\\ipykernel_15648\\1784366901.py:6: RuntimeWarning: invalid value encountered in scalar divide\n",
      "  return np.dot(u, v)/(np.linalg.norm(u)*np.linalg.norm(v))\n"
     ]
    },
    {
     "name": "stdout",
     "output_type": "stream",
     "text": [
      "279 577\n",
      "838 24\n",
      "921 96\n",
      "406 651\n",
      "655 1629\n",
      "311 218\n",
      "373 596\n"
     ]
    },
    {
     "name": "stderr",
     "output_type": "stream",
     "text": [
      "C:\\Users\\User\\AppData\\Local\\Temp\\ipykernel_15648\\1784366901.py:6: RuntimeWarning: invalid value encountered in scalar divide\n",
      "  return np.dot(u, v)/(np.linalg.norm(u)*np.linalg.norm(v))\n",
      "C:\\Users\\User\\AppData\\Local\\Temp\\ipykernel_15648\\1784366901.py:6: RuntimeWarning: invalid value encountered in scalar divide\n",
      "  return np.dot(u, v)/(np.linalg.norm(u)*np.linalg.norm(v))\n"
     ]
    },
    {
     "name": "stdout",
     "output_type": "stream",
     "text": [
      "661 272\n"
     ]
    },
    {
     "name": "stderr",
     "output_type": "stream",
     "text": [
      "C:\\Users\\User\\AppData\\Local\\Temp\\ipykernel_15648\\1784366901.py:6: RuntimeWarning: invalid value encountered in scalar divide\n",
      "  return np.dot(u, v)/(np.linalg.norm(u)*np.linalg.norm(v))\n"
     ]
    },
    {
     "name": "stdout",
     "output_type": "stream",
     "text": [
      "109 810\n",
      "189 131\n",
      "318 255\n",
      "820 289\n"
     ]
    },
    {
     "name": "stderr",
     "output_type": "stream",
     "text": [
      "C:\\Users\\User\\AppData\\Local\\Temp\\ipykernel_15648\\1784366901.py:6: RuntimeWarning: invalid value encountered in scalar divide\n",
      "  return np.dot(u, v)/(np.linalg.norm(u)*np.linalg.norm(v))\n",
      "C:\\Users\\User\\AppData\\Local\\Temp\\ipykernel_15648\\1784366901.py:6: RuntimeWarning: invalid value encountered in scalar divide\n",
      "  return np.dot(u, v)/(np.linalg.norm(u)*np.linalg.norm(v))\n"
     ]
    },
    {
     "name": "stdout",
     "output_type": "stream",
     "text": [
      "587 312\n",
      "49 42\n",
      "622 212\n",
      "70 208\n",
      "51 182\n"
     ]
    },
    {
     "name": "stderr",
     "output_type": "stream",
     "text": [
      "C:\\Users\\User\\AppData\\Local\\Temp\\ipykernel_15648\\1784366901.py:6: RuntimeWarning: invalid value encountered in scalar divide\n",
      "  return np.dot(u, v)/(np.linalg.norm(u)*np.linalg.norm(v))\n",
      "C:\\Users\\User\\AppData\\Local\\Temp\\ipykernel_15648\\1784366901.py:6: RuntimeWarning: invalid value encountered in scalar divide\n",
      "  return np.dot(u, v)/(np.linalg.norm(u)*np.linalg.norm(v))\n"
     ]
    },
    {
     "name": "stdout",
     "output_type": "stream",
     "text": [
      "244 528\n",
      "642 174\n",
      "474 696\n",
      "932 99\n",
      "655 1640\n"
     ]
    },
    {
     "name": "stderr",
     "output_type": "stream",
     "text": [
      "C:\\Users\\User\\AppData\\Local\\Temp\\ipykernel_15648\\1784366901.py:6: RuntimeWarning: invalid value encountered in scalar divide\n",
      "  return np.dot(u, v)/(np.linalg.norm(u)*np.linalg.norm(v))\n"
     ]
    },
    {
     "ename": "KeyError",
     "evalue": "'rating'",
     "output_type": "error",
     "traceback": [
      "\u001b[1;31m---------------------------------------------------------------------------\u001b[0m",
      "\u001b[1;31mKeyError\u001b[0m                                  Traceback (most recent call last)",
      "File \u001b[1;32mc:\\Users\\User\\AppData\\Local\\Programs\\Python\\Python310\\lib\\site-packages\\pandas\\core\\indexes\\base.py:3790\u001b[0m, in \u001b[0;36mIndex.get_loc\u001b[1;34m(self, key)\u001b[0m\n\u001b[0;32m   3789\u001b[0m \u001b[39mtry\u001b[39;00m:\n\u001b[1;32m-> 3790\u001b[0m     \u001b[39mreturn\u001b[39;00m \u001b[39mself\u001b[39;49m\u001b[39m.\u001b[39;49m_engine\u001b[39m.\u001b[39;49mget_loc(casted_key)\n\u001b[0;32m   3791\u001b[0m \u001b[39mexcept\u001b[39;00m \u001b[39mKeyError\u001b[39;00m \u001b[39mas\u001b[39;00m err:\n",
      "File \u001b[1;32mindex.pyx:152\u001b[0m, in \u001b[0;36mpandas._libs.index.IndexEngine.get_loc\u001b[1;34m()\u001b[0m\n",
      "File \u001b[1;32mindex.pyx:181\u001b[0m, in \u001b[0;36mpandas._libs.index.IndexEngine.get_loc\u001b[1;34m()\u001b[0m\n",
      "File \u001b[1;32mpandas\\_libs\\hashtable_class_helper.pxi:7080\u001b[0m, in \u001b[0;36mpandas._libs.hashtable.PyObjectHashTable.get_item\u001b[1;34m()\u001b[0m\n",
      "File \u001b[1;32mpandas\\_libs\\hashtable_class_helper.pxi:7088\u001b[0m, in \u001b[0;36mpandas._libs.hashtable.PyObjectHashTable.get_item\u001b[1;34m()\u001b[0m\n",
      "\u001b[1;31mKeyError\u001b[0m: 'rating'",
      "\nThe above exception was the direct cause of the following exception:\n",
      "\u001b[1;31mKeyError\u001b[0m                                  Traceback (most recent call last)",
      "Cell \u001b[1;32mIn[82], line 1\u001b[0m\n\u001b[1;32m----> 1\u001b[0m y_test_predict\u001b[39m=\u001b[39m x_test\u001b[39m.\u001b[39;49mapply(\u001b[39mlambda\u001b[39;49;00m x:\n\u001b[0;32m      2\u001b[0m            user_based(x[\u001b[39m'\u001b[39;49m\u001b[39muser id\u001b[39;49m\u001b[39m'\u001b[39;49m],x[\u001b[39m'\u001b[39;49m\u001b[39mitem id\u001b[39;49m\u001b[39m'\u001b[39;49m],train) ,axis\u001b[39m=\u001b[39;49m\u001b[39m1\u001b[39;49m)\n\u001b[0;32m      3\u001b[0m y_test_predict\n",
      "File \u001b[1;32mc:\\Users\\User\\AppData\\Local\\Programs\\Python\\Python310\\lib\\site-packages\\pandas\\core\\frame.py:10034\u001b[0m, in \u001b[0;36mDataFrame.apply\u001b[1;34m(self, func, axis, raw, result_type, args, by_row, **kwargs)\u001b[0m\n\u001b[0;32m  10022\u001b[0m \u001b[39mfrom\u001b[39;00m \u001b[39mpandas\u001b[39;00m\u001b[39m.\u001b[39;00m\u001b[39mcore\u001b[39;00m\u001b[39m.\u001b[39;00m\u001b[39mapply\u001b[39;00m \u001b[39mimport\u001b[39;00m frame_apply\n\u001b[0;32m  10024\u001b[0m op \u001b[39m=\u001b[39m frame_apply(\n\u001b[0;32m  10025\u001b[0m     \u001b[39mself\u001b[39m,\n\u001b[0;32m  10026\u001b[0m     func\u001b[39m=\u001b[39mfunc,\n\u001b[1;32m   (...)\u001b[0m\n\u001b[0;32m  10032\u001b[0m     kwargs\u001b[39m=\u001b[39mkwargs,\n\u001b[0;32m  10033\u001b[0m )\n\u001b[1;32m> 10034\u001b[0m \u001b[39mreturn\u001b[39;00m op\u001b[39m.\u001b[39;49mapply()\u001b[39m.\u001b[39m__finalize__(\u001b[39mself\u001b[39m, method\u001b[39m=\u001b[39m\u001b[39m\"\u001b[39m\u001b[39mapply\u001b[39m\u001b[39m\"\u001b[39m)\n",
      "File \u001b[1;32mc:\\Users\\User\\AppData\\Local\\Programs\\Python\\Python310\\lib\\site-packages\\pandas\\core\\apply.py:837\u001b[0m, in \u001b[0;36mFrameApply.apply\u001b[1;34m(self)\u001b[0m\n\u001b[0;32m    834\u001b[0m \u001b[39melif\u001b[39;00m \u001b[39mself\u001b[39m\u001b[39m.\u001b[39mraw:\n\u001b[0;32m    835\u001b[0m     \u001b[39mreturn\u001b[39;00m \u001b[39mself\u001b[39m\u001b[39m.\u001b[39mapply_raw()\n\u001b[1;32m--> 837\u001b[0m \u001b[39mreturn\u001b[39;00m \u001b[39mself\u001b[39;49m\u001b[39m.\u001b[39;49mapply_standard()\n",
      "File \u001b[1;32mc:\\Users\\User\\AppData\\Local\\Programs\\Python\\Python310\\lib\\site-packages\\pandas\\core\\apply.py:963\u001b[0m, in \u001b[0;36mFrameApply.apply_standard\u001b[1;34m(self)\u001b[0m\n\u001b[0;32m    962\u001b[0m \u001b[39mdef\u001b[39;00m \u001b[39mapply_standard\u001b[39m(\u001b[39mself\u001b[39m):\n\u001b[1;32m--> 963\u001b[0m     results, res_index \u001b[39m=\u001b[39m \u001b[39mself\u001b[39;49m\u001b[39m.\u001b[39;49mapply_series_generator()\n\u001b[0;32m    965\u001b[0m     \u001b[39m# wrap results\u001b[39;00m\n\u001b[0;32m    966\u001b[0m     \u001b[39mreturn\u001b[39;00m \u001b[39mself\u001b[39m\u001b[39m.\u001b[39mwrap_results(results, res_index)\n",
      "File \u001b[1;32mc:\\Users\\User\\AppData\\Local\\Programs\\Python\\Python310\\lib\\site-packages\\pandas\\core\\apply.py:979\u001b[0m, in \u001b[0;36mFrameApply.apply_series_generator\u001b[1;34m(self)\u001b[0m\n\u001b[0;32m    976\u001b[0m \u001b[39mwith\u001b[39;00m option_context(\u001b[39m\"\u001b[39m\u001b[39mmode.chained_assignment\u001b[39m\u001b[39m\"\u001b[39m, \u001b[39mNone\u001b[39;00m):\n\u001b[0;32m    977\u001b[0m     \u001b[39mfor\u001b[39;00m i, v \u001b[39min\u001b[39;00m \u001b[39menumerate\u001b[39m(series_gen):\n\u001b[0;32m    978\u001b[0m         \u001b[39m# ignore SettingWithCopy here in case the user mutates\u001b[39;00m\n\u001b[1;32m--> 979\u001b[0m         results[i] \u001b[39m=\u001b[39m \u001b[39mself\u001b[39m\u001b[39m.\u001b[39mfunc(v, \u001b[39m*\u001b[39m\u001b[39mself\u001b[39m\u001b[39m.\u001b[39margs, \u001b[39m*\u001b[39m\u001b[39m*\u001b[39m\u001b[39mself\u001b[39m\u001b[39m.\u001b[39mkwargs)\n\u001b[0;32m    980\u001b[0m         \u001b[39mif\u001b[39;00m \u001b[39misinstance\u001b[39m(results[i], ABCSeries):\n\u001b[0;32m    981\u001b[0m             \u001b[39m# If we have a view on v, we need to make a copy because\u001b[39;00m\n\u001b[0;32m    982\u001b[0m             \u001b[39m#  series_generator will swap out the underlying data\u001b[39;00m\n\u001b[0;32m    983\u001b[0m             results[i] \u001b[39m=\u001b[39m results[i]\u001b[39m.\u001b[39mcopy(deep\u001b[39m=\u001b[39m\u001b[39mFalse\u001b[39;00m)\n",
      "Cell \u001b[1;32mIn[82], line 2\u001b[0m, in \u001b[0;36m<lambda>\u001b[1;34m(x)\u001b[0m\n\u001b[0;32m      1\u001b[0m y_test_predict\u001b[39m=\u001b[39m x_test\u001b[39m.\u001b[39mapply(\u001b[39mlambda\u001b[39;00m x:\n\u001b[1;32m----> 2\u001b[0m            user_based(x[\u001b[39m'\u001b[39;49m\u001b[39muser id\u001b[39;49m\u001b[39m'\u001b[39;49m],x[\u001b[39m'\u001b[39;49m\u001b[39mitem id\u001b[39;49m\u001b[39m'\u001b[39;49m],train) ,axis\u001b[39m=\u001b[39m\u001b[39m1\u001b[39m)\n\u001b[0;32m      3\u001b[0m y_test_predict\n",
      "Cell \u001b[1;32mIn[78], line 13\u001b[0m, in \u001b[0;36muser_based\u001b[1;34m(user_id, item_id, data)\u001b[0m\n\u001b[0;32m     10\u001b[0m Nui \u001b[39m=\u001b[39m userData[userData[\u001b[39m'\u001b[39m\u001b[39muser id\u001b[39m\u001b[39m'\u001b[39m]\u001b[39m.\u001b[39misin(\n\u001b[0;32m     11\u001b[0m     data[data[\u001b[39m'\u001b[39m\u001b[39mitem id\u001b[39m\u001b[39m'\u001b[39m] \u001b[39m==\u001b[39m item_id][\u001b[39m'\u001b[39m\u001b[39muser id\u001b[39m\u001b[39m'\u001b[39m])]\n\u001b[0;32m     12\u001b[0m \u001b[39mprint\u001b[39m(\u001b[39m\"\u001b[39m\u001b[39m\"\u001b[39m\u001b[39m+\u001b[39m\u001b[39mstr\u001b[39m(user_id)\u001b[39m+\u001b[39m\u001b[39m\"\u001b[39m\u001b[39m \u001b[39m\u001b[39m\"\u001b[39m\u001b[39m+\u001b[39m\u001b[39mstr\u001b[39m(item_id))\n\u001b[1;32m---> 13\u001b[0m parcial1 \u001b[39m=\u001b[39m \u001b[39msum\u001b[39m(Nui\u001b[39m.\u001b[39;49mapply(\u001b[39mlambda\u001b[39;49;00m x:\n\u001b[0;32m     14\u001b[0m                          (cossine_similarity(data[data[\u001b[39m'\u001b[39;49m\u001b[39muser id\u001b[39;49m\u001b[39m'\u001b[39;49m] \u001b[39m==\u001b[39;49m user_id],\n\u001b[0;32m     15\u001b[0m                                              data[data[\u001b[39m'\u001b[39;49m\u001b[39muser id\u001b[39;49m\u001b[39m'\u001b[39;49m]\n\u001b[0;32m     16\u001b[0m                                                   \u001b[39m==\u001b[39;49m x[\u001b[39m'\u001b[39;49m\u001b[39muser id\u001b[39;49m\u001b[39m'\u001b[39;49m]]\n\u001b[0;32m     17\u001b[0m                                              )\u001b[39m*\u001b[39;49mdata[(\n\u001b[0;32m     18\u001b[0m                                                  data[\u001b[39m'\u001b[39;49m\u001b[39muser id\u001b[39;49m\u001b[39m'\u001b[39;49m] \u001b[39m==\u001b[39;49m x[\u001b[39m'\u001b[39;49m\u001b[39muser id\u001b[39;49m\u001b[39m'\u001b[39;49m]) \u001b[39m&\u001b[39;49m (data[\u001b[39m'\u001b[39;49m\u001b[39mitem id\u001b[39;49m\u001b[39m'\u001b[39;49m] \u001b[39m==\u001b[39;49m item_id)\n\u001b[0;32m     19\u001b[0m                          ][\u001b[39m'\u001b[39;49m\u001b[39mrating\u001b[39;49m\u001b[39m'\u001b[39;49m]\u001b[39m.\u001b[39;49mreset_index(drop\u001b[39m=\u001b[39;49m\u001b[39mTrue\u001b[39;49;00m)), axis\u001b[39m=\u001b[39;49m\u001b[39m1\u001b[39;49m\n\u001b[0;32m     20\u001b[0m \n\u001b[0;32m     21\u001b[0m                          )\u001b[39m.\u001b[39;49mrename(columns\u001b[39m=\u001b[39;49m{\u001b[39m0\u001b[39;49m: \u001b[39m'\u001b[39;49m\u001b[39mrating\u001b[39;49m\u001b[39m'\u001b[39;49m})[\u001b[39m'\u001b[39;49m\u001b[39mrating\u001b[39;49m\u001b[39m'\u001b[39;49m])\n\u001b[0;32m     22\u001b[0m parcial2 \u001b[39m=\u001b[39m \u001b[39msum\u001b[39m(Nui\u001b[39m.\u001b[39mapply(\u001b[39mlambda\u001b[39;00m x:\n\u001b[0;32m     23\u001b[0m                          (\u001b[39mabs\u001b[39m(cossine_similarity(data[data[\u001b[39m'\u001b[39m\u001b[39muser id\u001b[39m\u001b[39m'\u001b[39m] \u001b[39m==\u001b[39m user_id],\n\u001b[0;32m     24\u001b[0m                                                  data[data[\u001b[39m'\u001b[39m\u001b[39muser id\u001b[39m\u001b[39m'\u001b[39m]\n\u001b[0;32m     25\u001b[0m                                                       \u001b[39m==\u001b[39m x[\u001b[39m'\u001b[39m\u001b[39muser id\u001b[39m\u001b[39m'\u001b[39m]]\n\u001b[0;32m     26\u001b[0m                                                  ))), axis\u001b[39m=\u001b[39m\u001b[39m1\u001b[39m\n\u001b[0;32m     27\u001b[0m                          ))\n\u001b[0;32m     28\u001b[0m \u001b[39mreturn\u001b[39;00m parcial1\u001b[39m/\u001b[39mparcial2\n",
      "File \u001b[1;32mc:\\Users\\User\\AppData\\Local\\Programs\\Python\\Python310\\lib\\site-packages\\pandas\\core\\frame.py:3893\u001b[0m, in \u001b[0;36mDataFrame.__getitem__\u001b[1;34m(self, key)\u001b[0m\n\u001b[0;32m   3891\u001b[0m \u001b[39mif\u001b[39;00m \u001b[39mself\u001b[39m\u001b[39m.\u001b[39mcolumns\u001b[39m.\u001b[39mnlevels \u001b[39m>\u001b[39m \u001b[39m1\u001b[39m:\n\u001b[0;32m   3892\u001b[0m     \u001b[39mreturn\u001b[39;00m \u001b[39mself\u001b[39m\u001b[39m.\u001b[39m_getitem_multilevel(key)\n\u001b[1;32m-> 3893\u001b[0m indexer \u001b[39m=\u001b[39m \u001b[39mself\u001b[39;49m\u001b[39m.\u001b[39;49mcolumns\u001b[39m.\u001b[39;49mget_loc(key)\n\u001b[0;32m   3894\u001b[0m \u001b[39mif\u001b[39;00m is_integer(indexer):\n\u001b[0;32m   3895\u001b[0m     indexer \u001b[39m=\u001b[39m [indexer]\n",
      "File \u001b[1;32mc:\\Users\\User\\AppData\\Local\\Programs\\Python\\Python310\\lib\\site-packages\\pandas\\core\\indexes\\base.py:3797\u001b[0m, in \u001b[0;36mIndex.get_loc\u001b[1;34m(self, key)\u001b[0m\n\u001b[0;32m   3792\u001b[0m     \u001b[39mif\u001b[39;00m \u001b[39misinstance\u001b[39m(casted_key, \u001b[39mslice\u001b[39m) \u001b[39mor\u001b[39;00m (\n\u001b[0;32m   3793\u001b[0m         \u001b[39misinstance\u001b[39m(casted_key, abc\u001b[39m.\u001b[39mIterable)\n\u001b[0;32m   3794\u001b[0m         \u001b[39mand\u001b[39;00m \u001b[39many\u001b[39m(\u001b[39misinstance\u001b[39m(x, \u001b[39mslice\u001b[39m) \u001b[39mfor\u001b[39;00m x \u001b[39min\u001b[39;00m casted_key)\n\u001b[0;32m   3795\u001b[0m     ):\n\u001b[0;32m   3796\u001b[0m         \u001b[39mraise\u001b[39;00m InvalidIndexError(key)\n\u001b[1;32m-> 3797\u001b[0m     \u001b[39mraise\u001b[39;00m \u001b[39mKeyError\u001b[39;00m(key) \u001b[39mfrom\u001b[39;00m \u001b[39merr\u001b[39;00m\n\u001b[0;32m   3798\u001b[0m \u001b[39mexcept\u001b[39;00m \u001b[39mTypeError\u001b[39;00m:\n\u001b[0;32m   3799\u001b[0m     \u001b[39m# If we have a listlike key, _check_indexing_error will raise\u001b[39;00m\n\u001b[0;32m   3800\u001b[0m     \u001b[39m#  InvalidIndexError. Otherwise we fall through and re-raise\u001b[39;00m\n\u001b[0;32m   3801\u001b[0m     \u001b[39m#  the TypeError.\u001b[39;00m\n\u001b[0;32m   3802\u001b[0m     \u001b[39mself\u001b[39m\u001b[39m.\u001b[39m_check_indexing_error(key)\n",
      "\u001b[1;31mKeyError\u001b[0m: 'rating'"
     ]
    }
   ],
   "source": [
    "y_test_predict= x_test.apply(lambda x:\n",
    "           user_based(x['user id'],x['item id'],train) ,axis=1)\n",
    "y_test_predict"
   ]
  }
 ],
 "metadata": {
  "kernelspec": {
   "display_name": "Python 3.10.8 64-bit",
   "language": "python",
   "name": "python3"
  },
  "language_info": {
   "codemirror_mode": {
    "name": "ipython",
    "version": 3
   },
   "file_extension": ".py",
   "mimetype": "text/x-python",
   "name": "python",
   "nbconvert_exporter": "python",
   "pygments_lexer": "ipython3",
   "version": "3.10.8"
  },
  "orig_nbformat": 4,
  "vscode": {
   "interpreter": {
    "hash": "afb734500600fd355917ca529030176ea0ca205570884b88f2f6f7d791fd3fbe"
   }
  }
 },
 "nbformat": 4,
 "nbformat_minor": 2
}
